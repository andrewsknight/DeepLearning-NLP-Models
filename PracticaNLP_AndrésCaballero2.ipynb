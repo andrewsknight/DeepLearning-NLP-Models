{
  "nbformat": 4,
  "nbformat_minor": 0,
  "metadata": {
    "colab": {
      "provenance": [],
      "machine_shape": "hm",
      "include_colab_link": true
    },
    "kernelspec": {
      "name": "python3",
      "display_name": "Python 3"
    },
    "language_info": {
      "name": "python"
    },
    "accelerator": "GPU",
    "gpuClass": "standard"
  },
  "cells": [
    {
      "cell_type": "markdown",
      "metadata": {
        "id": "view-in-github",
        "colab_type": "text"
      },
      "source": [
        "<a href=\"https://colab.research.google.com/github/andrewsknight/DeepLearning-NLP-Models/blob/main/PracticaNLP_Andr%C3%A9sCaballero2.ipynb\" target=\"_parent\"><img src=\"https://colab.research.google.com/assets/colab-badge.svg\" alt=\"Open In Colab\"/></a>"
      ]
    },
    {
      "cell_type": "markdown",
      "source": [
        "**PASO 1: DESCARGA DEL DATASET Y EXPLORACIÓN DE DATOS**"
      ],
      "metadata": {
        "id": "6X-w28b-ZQdC"
      }
    },
    {
      "cell_type": "code",
      "execution_count": null,
      "metadata": {
        "id": "PIm5EyctS1uH"
      },
      "outputs": [],
      "source": [
        "#Vemos que el archivo nos lo da en formato JSON, así que importamos las librería necesarias\n",
        "import os\n",
        "import json\n",
        "import gzip\n",
        "import pandas as pd\n",
        "from google.colab import drive\n",
        "\n",
        "from urllib.request import urlopen\n"
      ]
    },
    {
      "cell_type": "code",
      "source": [
        "#Monto el drive para cargar el dataset de reviews previamente descargado de amazón.\n",
        "drive.mount('/content/drive')"
      ],
      "metadata": {
        "colab": {
          "base_uri": "https://localhost:8080/"
        },
        "id": "ZWh-0-eJtFOc",
        "outputId": "405d3531-611f-481e-8dc2-2d6483a341be"
      },
      "execution_count": null,
      "outputs": [
        {
          "output_type": "stream",
          "name": "stdout",
          "text": [
            "Drive already mounted at /content/drive; to attempt to forcibly remount, call drive.mount(\"/content/drive\", force_remount=True).\n"
          ]
        }
      ]
    },
    {
      "cell_type": "code",
      "source": [
        "#Creo una lista de diccionarios y comenzamos con una primera exploración de los datos.\n",
        "\n",
        "data = []\n",
        "with gzip.open('/content/drive/My Drive/Musical_Instruments.json.gz') as f:\n",
        "    for l in f:\n",
        "        data.append(json.loads(l))\n",
        "\n",
        "# total length of list\n",
        "print(len(data))\n",
        "\n",
        "# first row of the list\n",
        "print(data[0])\n",
        "\n"
      ],
      "metadata": {
        "colab": {
          "base_uri": "https://localhost:8080/"
        },
        "id": "f9Zqklv0XTwm",
        "outputId": "faae29e9-7793-490b-8467-ffa346f50ed7"
      },
      "execution_count": null,
      "outputs": [
        {
          "output_type": "stream",
          "name": "stdout",
          "text": [
            "1512530\n",
            "{'overall': 5.0, 'vote': '90', 'verified': False, 'reviewTime': '08 9, 2004', 'reviewerID': 'AXHY24HWOF184', 'asin': '0470536454', 'style': {'Format:': ' Paperback'}, 'reviewerName': 'Bendy', 'reviewText': 'Crocheting for Dummies by Karen Manthey & Susan Brittain is a wonderfully thorough and very informative book for anyone wanting to learn to crochet and or wanting to freshen up their skills.\\n\\nThe book reads like a storybook in paragraph form.  Everything is explained in great detail from choosing yarns and hooks, to how to work a large array of crochet stitches, to how to read a pattern, right down to how to care for ones crocheted items.\\n\\nThe stitch drawings are clear and expertly done making learning new stitches so much easier.\\n\\nThe book has both a contents page and an index for easy referral.  I especially liked the fact that an index was included.  So many crochet books do not include this.  The index makes it very easy to find information on a particular topic quickly.\\n\\nThe recommendations for people just learning to crochet are fantastic.  This book wasn\\'t out when I learned to crochet and I learned the hard way about many of the pit falls this book helps one to avoid.  For instance they recommend one start out with a size H-8 crochet hook and a light colored worsted weight yarn.  I learned with a B-1 hook and a fingering weight yarn.  After 2 whole days of crocheting it was 36\" long and 1.5\" tall.  I was trying to make a baby blanket for my doll (which never got made).\\n\\nThe book contains humor, not just in the cartoons but in the instructions as well which makes for very entertaining reading while one learns a new craft.  I always appreciate having a teacher with a sense of humor!\\n\\nA good sampling of designs is included so that one can try out their skills.  These include sweaters, an afghan, doilies, hot pads, pillow, scarves, floral motifs, and bandanas.\\n\\nI am a crochet designer and I read the book cover to cover like a storybook while on vacation this past week.  I thoroughly enjoyed it and learned a few things as well.  I would highly recommend this book to anyone interested in the art of crochet.', 'summary': 'Terrific Book for Learning the Art of Crochet', 'unixReviewTime': 1092009600}\n"
          ]
        }
      ]
    },
    {
      "cell_type": "code",
      "source": [
        "print(data[10])"
      ],
      "metadata": {
        "colab": {
          "base_uri": "https://localhost:8080/"
        },
        "id": "nBVnm4bK2x3E",
        "outputId": "bf798c6c-97c9-4b8e-c2b0-ab6c0566ded2"
      },
      "execution_count": null,
      "outputs": [
        {
          "output_type": "stream",
          "name": "stdout",
          "text": [
            "{'overall': 5.0, 'verified': True, 'reviewTime': '11 22, 2016', 'reviewerID': 'A26EU1X4VDNT4Z', 'asin': '0470536454', 'style': {'Format:': ' Paperback'}, 'reviewerName': 'Christine Donofrio', 'reviewText': 'Excellent training book for beginners!', 'summary': 'Five Stars', 'unixReviewTime': 1479772800}\n"
          ]
        }
      ]
    },
    {
      "cell_type": "markdown",
      "source": [
        "**PASO 2: ETAPA DE PREPROCESADO DE TEXTO**"
      ],
      "metadata": {
        "id": "iGRmDx7ON9up"
      }
    },
    {
      "cell_type": "code",
      "source": [
        "# A simple vista veo que podríamos filtrar el dataset por aquellas reseñas que están verificadas.\n",
        "# Comprobamos si no perdemos muchos datos.\n",
        "true = sum( dic['verified'] for dic in data if 'verified' in dic and  dic['verified'])\n",
        "false = sum(not dic['verified'] for dic in data if 'verified' in dic and not dic['verified'])\n"
      ],
      "metadata": {
        "id": "ls2hZz380s5r"
      },
      "execution_count": null,
      "outputs": []
    },
    {
      "cell_type": "code",
      "source": [
        "print(true)\n",
        "print(false)"
      ],
      "metadata": {
        "colab": {
          "base_uri": "https://localhost:8080/"
        },
        "id": "_gkWXZQc2gCU",
        "outputId": "c9381335-641c-4771-e424-9b682edec0bb"
      },
      "execution_count": null,
      "outputs": [
        {
          "output_type": "stream",
          "name": "stdout",
          "text": [
            "1346124\n",
            "166406\n"
          ]
        }
      ]
    },
    {
      "cell_type": "code",
      "source": [
        "#Veo que aunque perdemos una buena cantidad de datos, más adelante reduciremos bastante la cantidad de datos para poder procesarlos con la humilde gpu que nos proporciona Colab, así que lo filtramos.\n",
        "data_filtered = [dic for dic in data if dic.get('verified') == True]\n"
      ],
      "metadata": {
        "id": "gbJWjzYv3xdW"
      },
      "execution_count": null,
      "outputs": []
    },
    {
      "cell_type": "code",
      "source": [
        "# Hay claves que no necesitamos, así que nos quedamos solo con las valoraciones y las reseñas.\n",
        "\n",
        "\n",
        "new_dict = [{k: v for k, v in dic.items() if k in ('overall', 'reviewText')} for dic in data_filtered]"
      ],
      "metadata": {
        "id": "_MTywj20lE8S"
      },
      "execution_count": null,
      "outputs": []
    },
    {
      "cell_type": "code",
      "source": [
        "\n",
        "print(new_dict[40]['reviewText'])\n",
        "print(len(new_dict))"
      ],
      "metadata": {
        "colab": {
          "base_uri": "https://localhost:8080/"
        },
        "id": "1lQKsPiDvima",
        "outputId": "93727109-425f-471d-921c-21d23a02bb8a"
      },
      "execution_count": null,
      "outputs": [
        {
          "output_type": "stream",
          "name": "stdout",
          "text": [
            "Like all \"..........For Dummies\" books this one gives good basic information. Once a so-so crochet'er,  it helped me remember a lot such as: Easy on the tension and try to keep it consistent , to remember to make that extra chain stitch when you begin the next row and always, ALWAYS  Y/O= yarn over!!l\n",
            "1346124\n"
          ]
        }
      ]
    },
    {
      "cell_type": "code",
      "source": [
        "#Vemos que la lista de diccionarios es demasiado grande y nos va a llevar mucho tiempo ejecutar algunas funciones\n",
        "#asi que la filtro obteniendo un pequeño porcentaje de los datos de manera aleatoria con la funcion random.sample\n",
        "import random\n",
        "dict_reduce = random.sample(new_dict, int(len(new_dict)* 0.08))"
      ],
      "metadata": {
        "id": "Ep5DT_TyKhFB"
      },
      "execution_count": null,
      "outputs": []
    },
    {
      "cell_type": "code",
      "source": [
        "print(len(dict_reduce))"
      ],
      "metadata": {
        "colab": {
          "base_uri": "https://localhost:8080/"
        },
        "id": "MzSYCCDELXTz",
        "outputId": "4f45d81f-195f-487e-8629-d49ea9d15a7d"
      },
      "execution_count": null,
      "outputs": [
        {
          "output_type": "stream",
          "name": "stdout",
          "text": [
            "107689\n"
          ]
        }
      ]
    },
    {
      "cell_type": "code",
      "source": [
        "#Instalamos esta librería que nos permitirá convertir de numero a letras, dígitos que nos vayamos encontrando\n",
        "!pip install num2words"
      ],
      "metadata": {
        "colab": {
          "base_uri": "https://localhost:8080/"
        },
        "id": "18bBmx36D6tJ",
        "outputId": "28166b45-42e2-45a5-a8cd-9d8dd87af1ff"
      },
      "execution_count": null,
      "outputs": [
        {
          "output_type": "stream",
          "name": "stdout",
          "text": [
            "Looking in indexes: https://pypi.org/simple, https://us-python.pkg.dev/colab-wheels/public/simple/\n",
            "Collecting num2words\n",
            "  Downloading num2words-0.5.12-py3-none-any.whl (125 kB)\n",
            "\u001b[2K     \u001b[90m━━━━━━━━━━━━━━━━━━━━━━━━━━━━━━━━━━━━━━\u001b[0m \u001b[32m125.2/125.2 KB\u001b[0m \u001b[31m12.0 MB/s\u001b[0m eta \u001b[36m0:00:00\u001b[0m\n",
            "\u001b[?25hCollecting docopt>=0.6.2\n",
            "  Downloading docopt-0.6.2.tar.gz (25 kB)\n",
            "  Preparing metadata (setup.py) ... \u001b[?25l\u001b[?25hdone\n",
            "Building wheels for collected packages: docopt\n",
            "  Building wheel for docopt (setup.py) ... \u001b[?25l\u001b[?25hdone\n",
            "  Created wheel for docopt: filename=docopt-0.6.2-py2.py3-none-any.whl size=13723 sha256=450045c3e4be883dfa525554e2570426bd722ae8b213029d5d0ff800145d82e9\n",
            "  Stored in directory: /root/.cache/pip/wheels/70/4a/46/1309fc853b8d395e60bafaf1b6df7845bdd82c95fd59dd8d2b\n",
            "Successfully built docopt\n",
            "Installing collected packages: docopt, num2words\n",
            "Successfully installed docopt-0.6.2 num2words-0.5.12\n"
          ]
        }
      ]
    },
    {
      "cell_type": "code",
      "source": [
        "#Creamos una variable con todas las reviews para examinar sus palabras\n",
        "\n",
        "text = ''\n",
        "for dic in new_dict:\n",
        "  if 'reviewText' in dic:\n",
        "    text += dic['reviewText']"
      ],
      "metadata": {
        "id": "fpIyrtpnubqr"
      },
      "execution_count": null,
      "outputs": []
    },
    {
      "cell_type": "code",
      "source": [
        "words_nltk = text.lower().split()\n",
        "words_nltk[:10]"
      ],
      "metadata": {
        "colab": {
          "base_uri": "https://localhost:8080/"
        },
        "id": "ZFOfhvJdqz7z",
        "outputId": "d05e6f3d-3b84-474d-d001-31dd7200f0cc"
      },
      "execution_count": null,
      "outputs": [
        {
          "output_type": "execute_result",
          "data": {
            "text/plain": [
              "['very',\n",
              " 'helpful...easy',\n",
              " 'to',\n",
              " 'understand',\n",
              " 'and',\n",
              " 'a',\n",
              " 'prompt',\n",
              " 'service',\n",
              " 'toomy',\n",
              " 'girlfriend']"
            ]
          },
          "metadata": {},
          "execution_count": 15
        }
      ]
    },
    {
      "cell_type": "code",
      "source": [
        "#Observamos las palabras mas comunes y las contamos\n",
        "\n",
        "from collections import Counter\n",
        "\n",
        "wf = Counter(words_nltk)\n",
        "wf_most_common = wf.most_common(10)\n",
        "print(wf_most_common)"
      ],
      "metadata": {
        "colab": {
          "base_uri": "https://localhost:8080/"
        },
        "id": "Eo1Xt5Waq9AG",
        "outputId": "0d5bcb3e-7e6c-4ed1-f5f7-08cd2c043e5a"
      },
      "execution_count": null,
      "outputs": [
        {
          "output_type": "stream",
          "name": "stdout",
          "text": [
            "[('the', 2669441), ('and', 1596303), ('a', 1590112), ('i', 1465178), ('to', 1405440), ('it', 1176966), ('for', 904792), ('is', 879375), ('of', 732225), ('this', 680961)]\n"
          ]
        }
      ]
    },
    {
      "cell_type": "code",
      "source": [
        "#Creamos dos variables para graficar las palabras más comunes\n",
        "\n",
        "words = [w[0] for w in wf_most_common]\n",
        "freqs = [w[1] for w in wf_most_common]"
      ],
      "metadata": {
        "id": "ZJYgxpvxrHCX"
      },
      "execution_count": null,
      "outputs": []
    },
    {
      "cell_type": "code",
      "source": [
        "freqs, words = zip(*sorted(zip(freqs, words)))"
      ],
      "metadata": {
        "id": "KKr-zt4DrJFB"
      },
      "execution_count": null,
      "outputs": []
    },
    {
      "cell_type": "code",
      "source": [
        "#Vemos que las preposiciones y artículos llevan el mando como era de esperar.\n",
        "\n",
        "from matplotlib import pyplot as plt\n",
        "\n",
        "plt.barh(words, freqs)\n",
        "plt.show()"
      ],
      "metadata": {
        "colab": {
          "base_uri": "https://localhost:8080/",
          "height": 278
        },
        "id": "e7xAE3MqrJMk",
        "outputId": "510a46c8-53eb-4be8-b2a8-c248afb4a719"
      },
      "execution_count": null,
      "outputs": [
        {
          "output_type": "display_data",
          "data": {
            "text/plain": [
              "<Figure size 432x288 with 1 Axes>"
            ],
            "image/png": "[encoded data removed]"
          },
          "metadata": {
            "needs_background": "light"
          }
        }
      ]
    },
    {
      "cell_type": "markdown",
      "source": [
        "**Primera conclusión**:\n",
        "\n",
        "\n",
        "Obviamente vemos que debemos hacer un stop words y eliminar todas las palabras que no nos sirven como las preposiciones y árticulos que no van a aportar nada al modelo"
      ],
      "metadata": {
        "id": "_eenTco8vvxI"
      }
    },
    {
      "cell_type": "code",
      "source": [
        "#Observamos con enegramas las palabras y vemos que tenemos.\n",
        "\n",
        "from nltk import ngrams\n",
        "from nltk.probability import FreqDist\n",
        "bigrams_ = list(ngrams(words_nltk, 2))\n",
        "trigrams_ = list(ngrams(words_nltk, 3))"
      ],
      "metadata": {
        "id": "1AAgIYVsrOkX"
      },
      "execution_count": null,
      "outputs": []
    },
    {
      "cell_type": "code",
      "source": [
        "bigrams_[:10] #Vemos mucha preposición...."
      ],
      "metadata": {
        "colab": {
          "base_uri": "https://localhost:8080/"
        },
        "id": "BT20Zj0crRWA",
        "outputId": "6942f4dd-b08f-4bd7-f85d-6535dd262944"
      },
      "execution_count": null,
      "outputs": [
        {
          "output_type": "execute_result",
          "data": {
            "text/plain": [
              "[('very', 'helpful...easy'),\n",
              " ('helpful...easy', 'to'),\n",
              " ('to', 'understand'),\n",
              " ('understand', 'and'),\n",
              " ('and', 'a'),\n",
              " ('a', 'prompt'),\n",
              " ('prompt', 'service'),\n",
              " ('service', 'toomy'),\n",
              " ('toomy', 'girlfriend'),\n",
              " ('girlfriend', 'use')]"
            ]
          },
          "metadata": {},
          "execution_count": 21
        }
      ]
    },
    {
      "cell_type": "code",
      "source": [
        "trigrams_[:10]"
      ],
      "metadata": {
        "colab": {
          "base_uri": "https://localhost:8080/"
        },
        "id": "NLcf6GXurVPo",
        "outputId": "92fdf24d-932e-4f1d-a4ec-a1de0cb6320c"
      },
      "execution_count": null,
      "outputs": [
        {
          "output_type": "execute_result",
          "data": {
            "text/plain": [
              "[('very', 'helpful...easy', 'to'),\n",
              " ('helpful...easy', 'to', 'understand'),\n",
              " ('to', 'understand', 'and'),\n",
              " ('understand', 'and', 'a'),\n",
              " ('and', 'a', 'prompt'),\n",
              " ('a', 'prompt', 'service'),\n",
              " ('prompt', 'service', 'toomy'),\n",
              " ('service', 'toomy', 'girlfriend'),\n",
              " ('toomy', 'girlfriend', 'use'),\n",
              " ('girlfriend', 'use', 'quite')]"
            ]
          },
          "metadata": {},
          "execution_count": 22
        }
      ]
    },
    {
      "cell_type": "code",
      "source": [
        "bg_freq = FreqDist(bigrams_)\n",
        "tg_freq = FreqDist(trigrams_)"
      ],
      "metadata": {
        "id": "HEQF3GrywWyu"
      },
      "execution_count": null,
      "outputs": []
    },
    {
      "cell_type": "code",
      "source": [
        "bg_freq.most_common(10) #Vemos que las palabras más comunes, para nuestro objetivo, no nos aportan ninguna información."
      ],
      "metadata": {
        "colab": {
          "base_uri": "https://localhost:8080/"
        },
        "id": "830B36DdrZWJ",
        "outputId": "699ab86e-1226-4bbc-c78e-a757fb6c7c15"
      },
      "execution_count": null,
      "outputs": [
        {
          "output_type": "execute_result",
          "data": {
            "text/plain": [
              "[(('of', 'the'), 190500),\n",
              " (('for', 'the'), 148137),\n",
              " (('on', 'the'), 130230),\n",
              " (('it', 'is'), 127248),\n",
              " (('is', 'a'), 125709),\n",
              " (('in', 'the'), 119465),\n",
              " (('for', 'a'), 118495),\n",
              " (('and', 'the'), 116646),\n",
              " (('i', 'have'), 111685),\n",
              " (('with', 'the'), 103661)]"
            ]
          },
          "metadata": {},
          "execution_count": 24
        }
      ]
    },
    {
      "cell_type": "code",
      "source": [
        "bg_freq_most_common = bg_freq.most_common(10)\n",
        "bgs_ = [str(bg[0]) for bg in bg_freq_most_common]\n",
        "bgs_f_ = [bg[1] for bg in bg_freq_most_common]\n",
        "\n",
        "tg_freq_most_common = tg_freq.most_common(10)\n",
        "tgs_ = [str(tg[0]) for tg in tg_freq_most_common]\n",
        "tgs_f_ = [tg[1] for tg in tg_freq_most_common]"
      ],
      "metadata": {
        "id": "byqf5XpksJKH"
      },
      "execution_count": null,
      "outputs": []
    },
    {
      "cell_type": "code",
      "source": [
        "bgs_f_, bgs_ = zip(*sorted(zip(bgs_f_, bgs_)))\n",
        "tgs_f_, tgs_ = zip(*sorted(zip(tgs_f_, tgs_)))"
      ],
      "metadata": {
        "id": "I3OclGJ9sLIm"
      },
      "execution_count": null,
      "outputs": []
    },
    {
      "cell_type": "code",
      "source": [
        "#lo dicho probaremos de nuevo sin las stopwords\n",
        "\n",
        "plt.barh(bgs_, bgs_f_)\n",
        "plt.title('Bigram frequencies')\n",
        "plt.show()"
      ],
      "metadata": {
        "colab": {
          "base_uri": "https://localhost:8080/",
          "height": 281
        },
        "id": "iMdbo8PfsNO0",
        "outputId": "7602c8f4-adc6-46e3-a048-e43122bff9d9"
      },
      "execution_count": null,
      "outputs": [
        {
          "output_type": "display_data",
          "data": {
            "text/plain": [
              "<Figure size 432x288 with 1 Axes>"
            ],
            "image/png": "[encoded data removed]"
          },
          "metadata": {
            "needs_background": "light"
          }
        }
      ]
    },
    {
      "cell_type": "code",
      "source": [
        "#Aqui observamos palabras juntas que dicen mucho, como 'on of the' o 'a lot of', que seguramente sea una reseña que destaque algo problamente bueno.\n",
        "\n",
        "\n",
        "plt.barh(tgs_, tgs_f_)\n",
        "plt.title('Trigram frequencies')\n",
        "plt.show()"
      ],
      "metadata": {
        "colab": {
          "base_uri": "https://localhost:8080/",
          "height": 281
        },
        "id": "AI536zS9sUjk",
        "outputId": "f6482887-cc55-444f-9e3c-0fe8db156f28"
      },
      "execution_count": null,
      "outputs": [
        {
          "output_type": "display_data",
          "data": {
            "text/plain": [
              "<Figure size 432x288 with 1 Axes>"
            ],
            "image/png": "[encoded data removed]"
          },
          "metadata": {
            "needs_background": "light"
          }
        }
      ]
    },
    {
      "cell_type": "markdown",
      "source": [
        "**Segunda conclusión :**\n",
        "\n",
        "Visto lo visto, crearemos una función para tokenizar, eliminar las stop words, eliminar espacios, convertir a minúsculas y lematizar, y convertir dígitos a palabras."
      ],
      "metadata": {
        "id": "CBTFYyJxxx_d"
      }
    },
    {
      "cell_type": "markdown",
      "source": [
        "**DEFINIMOS UNA FUNCIÓN PARA PROCESAR LOS DATOS Y DEFINIMOS OTRA MÁS PARA IMPLEMENTAR EL PROCESADO EN CADA DICCIONARIO**"
      ],
      "metadata": {
        "id": "uR2OvXaLOETB"
      }
    },
    {
      "cell_type": "code",
      "source": [
        "import unicodedata\n",
        "from num2words import num2words\n",
        "import nltk\n",
        "nltk.download('stopwords')\n",
        "nltk.download('wordnet')\n",
        "nltk.download('omw-1.4')\n",
        "from nltk import RegexpTokenizer\n",
        "from nltk.corpus import stopwords\n",
        "from nltk.stem import WordNetLemmatizer\n",
        "\n",
        "#FUNCIÓN PARA PROCESAR LOS DATOS\n",
        "\n",
        "def nltk_cleaner(text, tokenizer, sw_list, lemmatizer):\n",
        "    clean_text = list()\n",
        "\n",
        "    # Eliminar acentos, signos extraños etc\n",
        "    text = unicodedata.normalize('NFKD', text).encode('ascii', 'ignore').decode('utf-8', 'ignore')\n",
        "\n",
        "    # Separar palabras eliminando signos de puntuación\n",
        "    for word in tokenizer.tokenize(text):\n",
        "\n",
        "        # Eliminar stop words\n",
        "        if word not in sw_list:\n",
        "\n",
        "        # Eliminar espacios sobrantes, convertir a minúsculas y lematizar\n",
        "            clean_word = lemmatizer.lemmatize(word).lower().strip()\n",
        "\n",
        "        # Convertir dígitos a palabras\n",
        "            if clean_word.isdigit():\n",
        "                clean_word = num2words(clean_word, lang='en')\n",
        "\n",
        "            clean_text.append(clean_word)\n",
        "\n",
        "    return ' '.join(clean_text)"
      ],
      "metadata": {
        "colab": {
          "base_uri": "https://localhost:8080/"
        },
        "id": "K40EH7tTzxT2",
        "outputId": "eca9e05c-ee35-4839-d0ce-60da520c1688"
      },
      "execution_count": null,
      "outputs": [
        {
          "output_type": "stream",
          "name": "stderr",
          "text": [
            "[nltk_data] Downloading package stopwords to /root/nltk_data...\n",
            "[nltk_data]   Unzipping corpora/stopwords.zip.\n",
            "[nltk_data] Downloading package wordnet to /root/nltk_data...\n",
            "[nltk_data] Downloading package omw-1.4 to /root/nltk_data...\n"
          ]
        }
      ]
    },
    {
      "cell_type": "code",
      "source": [
        "tokenizer = RegexpTokenizer(r'\\w+')\n",
        "sw_list = stopwords.words('english')\n",
        "lemmatizer = WordNetLemmatizer()"
      ],
      "metadata": {
        "id": "7aG_rp42EMlr"
      },
      "execution_count": null,
      "outputs": []
    },
    {
      "cell_type": "code",
      "source": [
        "#FUNCIÓN PARA SUSTITUIR LOS DATOS PROCESADOS\n",
        "\n",
        "def procces_list(data_list):\n",
        "  for dic in data_list:\n",
        "    if 'reviewText' in dic:\n",
        "      dic['reviewText'] = nltk_cleaner(dic['reviewText'],tokenizer, sw_list, lemmatizer )\n",
        "\n",
        "  return data_list\n",
        "\n"
      ],
      "metadata": {
        "id": "FqvR8tmPEi7l"
      },
      "execution_count": null,
      "outputs": []
    },
    {
      "cell_type": "code",
      "source": [
        "#Ejecutamos\n",
        "data_process = procces_list(dict_reduce)"
      ],
      "metadata": {
        "id": "s4fFhFmd6sOD"
      },
      "execution_count": null,
      "outputs": []
    },
    {
      "cell_type": "code",
      "source": [
        "#Observamos que algunos diccionarios no tienen reseñas. Como no son tantos para afectarnos al dataset, los eliminamos.\n",
        "data_final= [dic for dic in data_process if 'reviewText' in dic]"
      ],
      "metadata": {
        "id": "UwOw29nZMePS"
      },
      "execution_count": null,
      "outputs": []
    },
    {
      "cell_type": "markdown",
      "source": [
        "**Tras el preprocesado observamos de nuevo los datos y vemos que tenemos:**"
      ],
      "metadata": {
        "id": "BE-Eqg3Yyo9x"
      }
    },
    {
      "cell_type": "code",
      "source": [
        "text_final = ''\n",
        "\n",
        "for dic in data_final:\n",
        "  text_final += dic['reviewText']"
      ],
      "metadata": {
        "id": "kMVeSUoiy36f"
      },
      "execution_count": null,
      "outputs": []
    },
    {
      "cell_type": "code",
      "source": [
        "words_nltk_final = text_final.lower().split()\n",
        "words_nltk_final[:10]"
      ],
      "metadata": {
        "colab": {
          "base_uri": "https://localhost:8080/"
        },
        "id": "SrizAVBAynzL",
        "outputId": "c17638b3-bfe2-432b-af7e-d97e952490bc"
      },
      "execution_count": null,
      "outputs": [
        {
          "output_type": "execute_result",
          "data": {
            "text/plain": [
              "['well',\n",
              " 'i',\n",
              " 'see',\n",
              " 'post',\n",
              " 'critical',\n",
              " 'review',\n",
              " 'one',\n",
              " 'not',\n",
              " 'getting',\n",
              " 'correct']"
            ]
          },
          "metadata": {},
          "execution_count": 36
        }
      ]
    },
    {
      "cell_type": "code",
      "source": [
        "wf_final = Counter(words_nltk_final)\n",
        "wf_most_common_final = wf_final.most_common(10)\n",
        "print(wf_most_common_final)\n",
        "\n",
        "#Vemos que 'i' , 'the', e 'it' son palabras que para un analisis de sentimientos no nos va a aportar mucho, así que las eliminamos."
      ],
      "metadata": {
        "colab": {
          "base_uri": "https://localhost:8080/"
        },
        "id": "zGV3hnIYzlpP",
        "outputId": "8563a5ec-bb2d-417e-a2a7-a84e6e8d9064"
      },
      "execution_count": null,
      "outputs": [
        {
          "output_type": "stream",
          "name": "stdout",
          "text": [
            "[('i', 128332), ('one', 26835), ('the', 26600), ('great', 24384), ('sound', 24289), ('it', 21404), ('guitar', 20846), ('good', 19926), ('like', 16371), ('use', 14935)]\n"
          ]
        }
      ]
    },
    {
      "cell_type": "code",
      "source": [
        "#Creo función para eliminar palabras que nos aportan nada al modelo y que la función de stopWords no nos ha eliminado.\n",
        "\n",
        "def delete_words(lista, clave):\n",
        "  for dic in lista:\n",
        "    words = dic[clave].split()\n",
        "    new_words = []\n",
        "    for word in words:\n",
        "      if word not in ['the', 'i', 'it']:\n",
        "        new_words.append(word)\n",
        "    dic[clave] = ' '.join(new_words)\n",
        "\n",
        "delete_words(data_final, 'reviewText')\n"
      ],
      "metadata": {
        "id": "dHRE2u_RJ6sb"
      },
      "execution_count": null,
      "outputs": []
    },
    {
      "cell_type": "markdown",
      "source": [
        "Observamos el texto más limpio y con mayor sentido."
      ],
      "metadata": {
        "id": "4M-7TTUZcotB"
      }
    },
    {
      "cell_type": "code",
      "source": [
        "from nltk import ngrams\n",
        "from nltk.probability import FreqDist\n",
        "\n",
        "bigrams_final = list(ngrams(words_nltk_final, 2))\n",
        "trigrams_final = list(ngrams(words_nltk_final, 3))\n",
        "bigrams_final[:10]"
      ],
      "metadata": {
        "id": "WHqDHmI-0IXK"
      },
      "execution_count": null,
      "outputs": []
    },
    {
      "cell_type": "code",
      "source": [
        "trigrams_final[:10]"
      ],
      "metadata": {
        "colab": {
          "base_uri": "https://localhost:8080/"
        },
        "id": "OGl4uFKL3V_X",
        "outputId": "e7b41bbf-f9f8-4c98-b9d1-1b731c512399"
      },
      "execution_count": null,
      "outputs": [
        {
          "output_type": "execute_result",
          "data": {
            "text/plain": [
              "[('well', 'i', 'see'),\n",
              " ('i', 'see', 'post'),\n",
              " ('see', 'post', 'critical'),\n",
              " ('post', 'critical', 'review'),\n",
              " ('critical', 'review', 'one'),\n",
              " ('review', 'one', 'not'),\n",
              " ('one', 'not', 'getting'),\n",
              " ('not', 'getting', 'correct'),\n",
              " ('getting', 'correct', 'product'),\n",
              " ('correct', 'product', 'two')]"
            ]
          },
          "metadata": {},
          "execution_count": 40
        }
      ]
    },
    {
      "cell_type": "code",
      "source": [
        "import numpy as np\n",
        "import pandas as pd\n",
        "from collections import Counter # Exploración\n",
        "from nltk import ngrams # Exploración\n",
        "from nltk.probability import FreqDist # Exploración\n",
        "import unicodedata # Preprocesado\n",
        "\n",
        "\n",
        "\n",
        "from sklearn.model_selection import train_test_split # Modelado\n",
        "from sklearn.pipeline import Pipeline # Modelado\n",
        "from sklearn.feature_extraction.text import CountVectorizer, TfidfVectorizer # Modelado\n",
        "from sklearn.feature_selection import chi2 # Reporte\n",
        "from sklearn.linear_model import LogisticRegression # Reporte\n",
        "from sklearn.metrics import accuracy_score, confusion_matrix, classification_report, roc_curve, precision_recall_curve # Reporte\n",
        "\n"
      ],
      "metadata": {
        "id": "dm6d8TnnQnng"
      },
      "execution_count": null,
      "outputs": []
    },
    {
      "cell_type": "code",
      "source": [
        "# Convertimos nuestro diccionario en un dataframe con dos columnas (reseñas, sentimientos, eliminamos los NA)\n",
        "reviews_text = []\n",
        "reviews_sentiment = []\n",
        "\n",
        "for review in data_final:\n",
        "    reviews_text.append(review.get('reviewText'))\n",
        "    reviews_sentiment.append(review.get('overall'))\n",
        "\n",
        "df = pd.DataFrame({\n",
        "    'review': reviews_text,\n",
        "    'sentiment': reviews_sentiment\n",
        "})\n",
        "df.dropna(subset=['review', 'sentiment'], inplace=True)\n",
        "df.reset_index(drop=True, inplace=True)"
      ],
      "metadata": {
        "id": "EF9zbhdzMPCv"
      },
      "execution_count": null,
      "outputs": []
    },
    {
      "cell_type": "code",
      "source": [
        "df.shape"
      ],
      "metadata": {
        "colab": {
          "base_uri": "https://localhost:8080/"
        },
        "id": "p0gbKCZQPzDr",
        "outputId": "6ac194f2-4cf8-4259-94d1-362963a65c91"
      },
      "execution_count": null,
      "outputs": [
        {
          "output_type": "execute_result",
          "data": {
            "text/plain": [
              "(107634, 2)"
            ]
          },
          "metadata": {},
          "execution_count": 43
        }
      ]
    },
    {
      "cell_type": "code",
      "source": [
        "#Creamos una variable con todas las palabras que tenemos\n",
        "\n",
        "df['review']\n",
        "words = df['review'].apply(pd.Series).stack().reset_index(drop = True)"
      ],
      "metadata": {
        "id": "jcn48ISaQhFX"
      },
      "execution_count": null,
      "outputs": []
    },
    {
      "cell_type": "code",
      "source": [
        "vocabulary = Counter(words)\n",
        "len(vocabulary)"
      ],
      "metadata": {
        "colab": {
          "base_uri": "https://localhost:8080/"
        },
        "id": "o0IGh3x3T3Js",
        "outputId": "e038fba7-edcc-429c-bb0d-5a6fbca5ad2a"
      },
      "execution_count": null,
      "outputs": [
        {
          "output_type": "execute_result",
          "data": {
            "text/plain": [
              "96957"
            ]
          },
          "metadata": {},
          "execution_count": 47
        }
      ]
    },
    {
      "cell_type": "code",
      "source": [
        "aux_df = pd.DataFrame(df['sentiment'].value_counts(sort=False).sort_index())\n",
        "aux_df = aux_df.plot(kind='bar', title='Overall sentiment distribution (review)', figsize=(8, 4))"
      ],
      "metadata": {
        "colab": {
          "base_uri": "https://localhost:8080/",
          "height": 287
        },
        "id": "pxrK9h0PUxJI",
        "outputId": "0f219a5a-cb0d-46e6-d73b-6f6e8d00a3a9"
      },
      "execution_count": null,
      "outputs": [
        {
          "output_type": "display_data",
          "data": {
            "text/plain": [
              "<Figure size 576x288 with 1 Axes>"
            ],
            "image/png": "[encoded data removed]"
          },
          "metadata": {
            "needs_background": "light"
          }
        }
      ]
    },
    {
      "cell_type": "code",
      "source": [
        "#Creamos función para separar el dataset escogiendo las reseñas menores que de 5 estrellas como negativas y las de 5 como positivas. Lo divido así visto las desproporción entre reseñas.\n",
        "#La mayoría de reseñas son positivas. Es cierto que las reseñas de 4 estrellas seguramente tenga muchas palabras positivas y quizás pueda afectar al modelo, pero más adelante corregimos ese error,\n",
        "#, gracias a wordcloud, descubriendo que palabras deberíamos eliminar de las reseñas negativas para entrenar mejor el modelo.\n",
        "\n",
        "def label_sentiment(row):\n",
        "    if int(row['sentiment']) < 5:\n",
        "        return 0\n",
        "    else:\n",
        "        return 1"
      ],
      "metadata": {
        "id": "cWRDGe_xVAgS"
      },
      "execution_count": null,
      "outputs": []
    },
    {
      "cell_type": "code",
      "source": [
        "df['sentiment_label'] = df.apply(lambda row: label_sentiment(row), axis=1)"
      ],
      "metadata": {
        "id": "KWqsny8_VBkY"
      },
      "execution_count": null,
      "outputs": []
    },
    {
      "cell_type": "code",
      "source": [
        "df.head()"
      ],
      "metadata": {
        "colab": {
          "base_uri": "https://localhost:8080/",
          "height": 206
        },
        "id": "OKs0yN1dVPsx",
        "outputId": "4832789b-df1d-45c2-ef7f-5723819dd30c"
      },
      "execution_count": null,
      "outputs": [
        {
          "output_type": "execute_result",
          "data": {
            "text/plain": [
              "                                              review  sentiment  \\\n",
              "0  well see post critical review one not getting ...        1.0   \n",
              "1  strongly reccomend buy matter beginner guitar ...        5.0   \n",
              "2                                  small thought job        5.0   \n",
              "3  sick pedal tiny box smaller thought would but ...        5.0   \n",
              "4                                        love string        4.0   \n",
              "\n",
              "   sentiment_label  \n",
              "0                0  \n",
              "1                1  \n",
              "2                1  \n",
              "3                1  \n",
              "4                0  "
            ],
            "text/html": [
              "\n",
              "  <div id=\"df-9f2683bf-7670-4beb-aa16-3ec3f70d5bd1\">\n",
              "    <div class=\"colab-df-container\">\n",
              "      <div>\n",
              "<style scoped>\n",
              "    .dataframe tbody tr th:only-of-type {\n",
              "        vertical-align: middle;\n",
              "    }\n",
              "\n",
              "    .dataframe tbody tr th {\n",
              "        vertical-align: top;\n",
              "    }\n",
              "\n",
              "    .dataframe thead th {\n",
              "        text-align: right;\n",
              "    }\n",
              "</style>\n",
              "<table border=\"1\" class=\"dataframe\">\n",
              "  <thead>\n",
              "    <tr style=\"text-align: right;\">\n",
              "      <th></th>\n",
              "      <th>review</th>\n",
              "      <th>sentiment</th>\n",
              "      <th>sentiment_label</th>\n",
              "    </tr>\n",
              "  </thead>\n",
              "  <tbody>\n",
              "    <tr>\n",
              "      <th>0</th>\n",
              "      <td>well see post critical review one not getting ...</td>\n",
              "      <td>1.0</td>\n",
              "      <td>0</td>\n",
              "    </tr>\n",
              "    <tr>\n",
              "      <th>1</th>\n",
              "      <td>strongly reccomend buy matter beginner guitar ...</td>\n",
              "      <td>5.0</td>\n",
              "      <td>1</td>\n",
              "    </tr>\n",
              "    <tr>\n",
              "      <th>2</th>\n",
              "      <td>small thought job</td>\n",
              "      <td>5.0</td>\n",
              "      <td>1</td>\n",
              "    </tr>\n",
              "    <tr>\n",
              "      <th>3</th>\n",
              "      <td>sick pedal tiny box smaller thought would but ...</td>\n",
              "      <td>5.0</td>\n",
              "      <td>1</td>\n",
              "    </tr>\n",
              "    <tr>\n",
              "      <th>4</th>\n",
              "      <td>love string</td>\n",
              "      <td>4.0</td>\n",
              "      <td>0</td>\n",
              "    </tr>\n",
              "  </tbody>\n",
              "</table>\n",
              "</div>\n",
              "      <button class=\"colab-df-convert\" onclick=\"convertToInteractive('df-9f2683bf-7670-4beb-aa16-3ec3f70d5bd1')\"\n",
              "              title=\"Convert this dataframe to an interactive table.\"\n",
              "              style=\"display:none;\">\n",
              "        \n",
              "  <svg xmlns=\"http://www.w3.org/2000/svg\" height=\"24px\"viewBox=\"0 0 24 24\"\n",
              "       width=\"24px\">\n",
              "    <path d=\"M0 0h24v24H0V0z\" fill=\"none\"/>\n",
              "    <path d=\"M18.56 5.44l.94 2.06.94-2.06 2.06-.94-2.06-.94-.94-2.06-.94 2.06-2.06.94zm-11 1L8.5 8.5l.94-2.06 2.06-.94-2.06-.94L8.5 2.5l-.94 2.06-2.06.94zm10 10l.94 2.06.94-2.06 2.06-.94-2.06-.94-.94-2.06-.94 2.06-2.06.94z\"/><path d=\"M17.41 7.96l-1.37-1.37c-.4-.4-.92-.59-1.43-.59-.52 0-1.04.2-1.43.59L10.3 9.45l-7.72 7.72c-.78.78-.78 2.05 0 2.83L4 21.41c.39.39.9.59 1.41.59.51 0 1.02-.2 1.41-.59l7.78-7.78 2.81-2.81c.8-.78.8-2.07 0-2.86zM5.41 20L4 18.59l7.72-7.72 1.47 1.35L5.41 20z\"/>\n",
              "  </svg>\n",
              "      </button>\n",
              "      \n",
              "  <style>\n",
              "    .colab-df-container {\n",
              "      display:flex;\n",
              "      flex-wrap:wrap;\n",
              "      gap: 12px;\n",
              "    }\n",
              "\n",
              "    .colab-df-convert {\n",
              "      background-color: #E8F0FE;\n",
              "      border: none;\n",
              "      border-radius: 50%;\n",
              "      cursor: pointer;\n",
              "      display: none;\n",
              "      fill: #1967D2;\n",
              "      height: 32px;\n",
              "      padding: 0 0 0 0;\n",
              "      width: 32px;\n",
              "    }\n",
              "\n",
              "    .colab-df-convert:hover {\n",
              "      background-color: #E2EBFA;\n",
              "      box-shadow: 0px 1px 2px rgba(60, 64, 67, 0.3), 0px 1px 3px 1px rgba(60, 64, 67, 0.15);\n",
              "      fill: #174EA6;\n",
              "    }\n",
              "\n",
              "    [theme=dark] .colab-df-convert {\n",
              "      background-color: #3B4455;\n",
              "      fill: #D2E3FC;\n",
              "    }\n",
              "\n",
              "    [theme=dark] .colab-df-convert:hover {\n",
              "      background-color: #434B5C;\n",
              "      box-shadow: 0px 1px 3px 1px rgba(0, 0, 0, 0.15);\n",
              "      filter: drop-shadow(0px 1px 2px rgba(0, 0, 0, 0.3));\n",
              "      fill: #FFFFFF;\n",
              "    }\n",
              "  </style>\n",
              "\n",
              "      <script>\n",
              "        const buttonEl =\n",
              "          document.querySelector('#df-9f2683bf-7670-4beb-aa16-3ec3f70d5bd1 button.colab-df-convert');\n",
              "        buttonEl.style.display =\n",
              "          google.colab.kernel.accessAllowed ? 'block' : 'none';\n",
              "\n",
              "        async function convertToInteractive(key) {\n",
              "          const element = document.querySelector('#df-9f2683bf-7670-4beb-aa16-3ec3f70d5bd1');\n",
              "          const dataTable =\n",
              "            await google.colab.kernel.invokeFunction('convertToInteractive',\n",
              "                                                     [key], {});\n",
              "          if (!dataTable) return;\n",
              "\n",
              "          const docLinkHtml = 'Like what you see? Visit the ' +\n",
              "            '<a target=\"_blank\" href=https://colab.research.google.com/notebooks/data_table.ipynb>data table notebook</a>'\n",
              "            + ' to learn more about interactive tables.';\n",
              "          element.innerHTML = '';\n",
              "          dataTable['output_type'] = 'display_data';\n",
              "          await google.colab.output.renderOutput(dataTable, element);\n",
              "          const docLink = document.createElement('div');\n",
              "          docLink.innerHTML = docLinkHtml;\n",
              "          element.appendChild(docLink);\n",
              "        }\n",
              "      </script>\n",
              "    </div>\n",
              "  </div>\n",
              "  "
            ]
          },
          "metadata": {},
          "execution_count": 51
        }
      ]
    },
    {
      "cell_type": "code",
      "source": [
        "print(len(df[df['sentiment_label']== 1]))\n",
        "print(len(df[df['sentiment_label']== 0]))"
      ],
      "metadata": {
        "colab": {
          "base_uri": "https://localhost:8080/"
        },
        "id": "oBDhSr4KVnjm",
        "outputId": "5e37d604-43e4-4c02-a0ef-88eb8e15d30f"
      },
      "execution_count": null,
      "outputs": [
        {
          "output_type": "stream",
          "name": "stdout",
          "text": [
            "70669\n",
            "36965\n"
          ]
        }
      ]
    },
    {
      "cell_type": "markdown",
      "source": [
        "Vemos que las reviews están desbalanceadas, pero como tenemos demasiados datos, reducimos los datos de las reviews positivas para que queden igual que las otras."
      ],
      "metadata": {
        "id": "xtvjDS5OJjTu"
      }
    },
    {
      "cell_type": "code",
      "source": [
        "filas_a_borrar= df[df['sentiment_label']== 1]\n",
        "num_filas_a_borrar = len(df[df['sentiment_label']== 1])- (len(df[df['sentiment_label']== 1])- len(df[df['sentiment_label']== 0]))\n",
        "\n",
        "filas_a_borrar = filas_a_borrar.sample(frac=1)\n",
        "filas_a_borrar = filas_a_borrar.iloc[num_filas_a_borrar:]\n",
        "df = df.drop(filas_a_borrar.index)"
      ],
      "metadata": {
        "id": "0mtZ6NxfuLrz"
      },
      "execution_count": null,
      "outputs": []
    },
    {
      "cell_type": "code",
      "source": [
        "len(df)"
      ],
      "metadata": {
        "colab": {
          "base_uri": "https://localhost:8080/"
        },
        "id": "hNdjh-dfVr9H",
        "outputId": "9a690f81-bff3-4260-db1c-67119b3adbf0"
      },
      "execution_count": null,
      "outputs": [
        {
          "output_type": "execute_result",
          "data": {
            "text/plain": [
              "73930"
            ]
          },
          "metadata": {},
          "execution_count": 58
        }
      ]
    },
    {
      "cell_type": "code",
      "source": [
        "#Vemos que ahora si tenemos un dataset balanceado\n",
        "aux_df = pd.DataFrame(df['sentiment_label'].value_counts(sort=False).sort_index())\n",
        "aux_df = aux_df.plot(kind='bar', title='Sentiment distribution (Corpus Final)', figsize=(8, 4))"
      ],
      "metadata": {
        "colab": {
          "base_uri": "https://localhost:8080/",
          "height": 278
        },
        "id": "y_gyuN5UVhk0",
        "outputId": "946ff9df-cbeb-459c-8114-71a938d7c40b"
      },
      "execution_count": null,
      "outputs": [
        {
          "output_type": "display_data",
          "data": {
            "text/plain": [
              "<Figure size 576x288 with 1 Axes>"
            ],
            "image/png": "[encoded data removed]"
          },
          "metadata": {
            "needs_background": "light"
          }
        }
      ]
    },
    {
      "cell_type": "code",
      "source": [
        "#echamos un vistazo a lo que tenemos\n",
        "df.head(20)"
      ],
      "metadata": {
        "colab": {
          "base_uri": "https://localhost:8080/",
          "height": 677
        },
        "id": "UsFotxrYYBor",
        "outputId": "6ac057b2-56a5-4da5-fbd8-13c0c9561a3c"
      },
      "execution_count": null,
      "outputs": [
        {
          "output_type": "execute_result",
          "data": {
            "text/plain": [
              "                                               review  sentiment  \\\n",
              "0   well see post critical review one not getting ...        1.0   \n",
              "1   strongly reccomend buy matter beginner guitar ...        5.0   \n",
              "2                                   small thought job        5.0   \n",
              "3   sick pedal tiny box smaller thought would but ...        5.0   \n",
              "4                                         love string        4.0   \n",
              "5   great ukulele at first scared took month get t...        5.0   \n",
              "6                                           nice item        5.0   \n",
              "7   this true singing bowl resonate sing either hi...        1.0   \n",
              "8   bought keyboard plug this plug easy find good ...        5.0   \n",
              "9   get these bought two pair one one husband we a...        5.0   \n",
              "10  case suck plain simple guitar sliding around c...        1.0   \n",
              "11  instruction install helpful easy understand co...        5.0   \n",
              "12  quality mouthpiece superb new schilke size cup...        3.0   \n",
              "13  these versatile microphone voice flute violin ...        5.0   \n",
              "14  great utility speaker breaks higher volume wor...        3.0   \n",
              "15                                            awesome        5.0   \n",
              "16  microphone pop guard fantastic able attach com...        3.0   \n",
              "17                                  ordered time love        5.0   \n",
              "18  decals difficult remove backing paper must dri...        3.0   \n",
              "19           whenever grab electric guitar stand fall        1.0   \n",
              "\n",
              "    sentiment_label  \n",
              "0                 0  \n",
              "1                 1  \n",
              "2                 1  \n",
              "3                 1  \n",
              "4                 0  \n",
              "5                 1  \n",
              "6                 1  \n",
              "7                 0  \n",
              "8                 1  \n",
              "9                 1  \n",
              "10                0  \n",
              "11                1  \n",
              "12                0  \n",
              "13                1  \n",
              "14                0  \n",
              "15                1  \n",
              "16                0  \n",
              "17                1  \n",
              "18                0  \n",
              "19                0  "
            ],
            "text/html": [
              "\n",
              "  <div id=\"df-619f22c2-4997-48b0-8ab0-fc69007a217c\">\n",
              "    <div class=\"colab-df-container\">\n",
              "      <div>\n",
              "<style scoped>\n",
              "    .dataframe tbody tr th:only-of-type {\n",
              "        vertical-align: middle;\n",
              "    }\n",
              "\n",
              "    .dataframe tbody tr th {\n",
              "        vertical-align: top;\n",
              "    }\n",
              "\n",
              "    .dataframe thead th {\n",
              "        text-align: right;\n",
              "    }\n",
              "</style>\n",
              "<table border=\"1\" class=\"dataframe\">\n",
              "  <thead>\n",
              "    <tr style=\"text-align: right;\">\n",
              "      <th></th>\n",
              "      <th>review</th>\n",
              "      <th>sentiment</th>\n",
              "      <th>sentiment_label</th>\n",
              "    </tr>\n",
              "  </thead>\n",
              "  <tbody>\n",
              "    <tr>\n",
              "      <th>0</th>\n",
              "      <td>well see post critical review one not getting ...</td>\n",
              "      <td>1.0</td>\n",
              "      <td>0</td>\n",
              "    </tr>\n",
              "    <tr>\n",
              "      <th>1</th>\n",
              "      <td>strongly reccomend buy matter beginner guitar ...</td>\n",
              "      <td>5.0</td>\n",
              "      <td>1</td>\n",
              "    </tr>\n",
              "    <tr>\n",
              "      <th>2</th>\n",
              "      <td>small thought job</td>\n",
              "      <td>5.0</td>\n",
              "      <td>1</td>\n",
              "    </tr>\n",
              "    <tr>\n",
              "      <th>3</th>\n",
              "      <td>sick pedal tiny box smaller thought would but ...</td>\n",
              "      <td>5.0</td>\n",
              "      <td>1</td>\n",
              "    </tr>\n",
              "    <tr>\n",
              "      <th>4</th>\n",
              "      <td>love string</td>\n",
              "      <td>4.0</td>\n",
              "      <td>0</td>\n",
              "    </tr>\n",
              "    <tr>\n",
              "      <th>5</th>\n",
              "      <td>great ukulele at first scared took month get t...</td>\n",
              "      <td>5.0</td>\n",
              "      <td>1</td>\n",
              "    </tr>\n",
              "    <tr>\n",
              "      <th>6</th>\n",
              "      <td>nice item</td>\n",
              "      <td>5.0</td>\n",
              "      <td>1</td>\n",
              "    </tr>\n",
              "    <tr>\n",
              "      <th>7</th>\n",
              "      <td>this true singing bowl resonate sing either hi...</td>\n",
              "      <td>1.0</td>\n",
              "      <td>0</td>\n",
              "    </tr>\n",
              "    <tr>\n",
              "      <th>8</th>\n",
              "      <td>bought keyboard plug this plug easy find good ...</td>\n",
              "      <td>5.0</td>\n",
              "      <td>1</td>\n",
              "    </tr>\n",
              "    <tr>\n",
              "      <th>9</th>\n",
              "      <td>get these bought two pair one one husband we a...</td>\n",
              "      <td>5.0</td>\n",
              "      <td>1</td>\n",
              "    </tr>\n",
              "    <tr>\n",
              "      <th>10</th>\n",
              "      <td>case suck plain simple guitar sliding around c...</td>\n",
              "      <td>1.0</td>\n",
              "      <td>0</td>\n",
              "    </tr>\n",
              "    <tr>\n",
              "      <th>11</th>\n",
              "      <td>instruction install helpful easy understand co...</td>\n",
              "      <td>5.0</td>\n",
              "      <td>1</td>\n",
              "    </tr>\n",
              "    <tr>\n",
              "      <th>12</th>\n",
              "      <td>quality mouthpiece superb new schilke size cup...</td>\n",
              "      <td>3.0</td>\n",
              "      <td>0</td>\n",
              "    </tr>\n",
              "    <tr>\n",
              "      <th>13</th>\n",
              "      <td>these versatile microphone voice flute violin ...</td>\n",
              "      <td>5.0</td>\n",
              "      <td>1</td>\n",
              "    </tr>\n",
              "    <tr>\n",
              "      <th>14</th>\n",
              "      <td>great utility speaker breaks higher volume wor...</td>\n",
              "      <td>3.0</td>\n",
              "      <td>0</td>\n",
              "    </tr>\n",
              "    <tr>\n",
              "      <th>15</th>\n",
              "      <td>awesome</td>\n",
              "      <td>5.0</td>\n",
              "      <td>1</td>\n",
              "    </tr>\n",
              "    <tr>\n",
              "      <th>16</th>\n",
              "      <td>microphone pop guard fantastic able attach com...</td>\n",
              "      <td>3.0</td>\n",
              "      <td>0</td>\n",
              "    </tr>\n",
              "    <tr>\n",
              "      <th>17</th>\n",
              "      <td>ordered time love</td>\n",
              "      <td>5.0</td>\n",
              "      <td>1</td>\n",
              "    </tr>\n",
              "    <tr>\n",
              "      <th>18</th>\n",
              "      <td>decals difficult remove backing paper must dri...</td>\n",
              "      <td>3.0</td>\n",
              "      <td>0</td>\n",
              "    </tr>\n",
              "    <tr>\n",
              "      <th>19</th>\n",
              "      <td>whenever grab electric guitar stand fall</td>\n",
              "      <td>1.0</td>\n",
              "      <td>0</td>\n",
              "    </tr>\n",
              "  </tbody>\n",
              "</table>\n",
              "</div>\n",
              "      <button class=\"colab-df-convert\" onclick=\"convertToInteractive('df-619f22c2-4997-48b0-8ab0-fc69007a217c')\"\n",
              "              title=\"Convert this dataframe to an interactive table.\"\n",
              "              style=\"display:none;\">\n",
              "        \n",
              "  <svg xmlns=\"http://www.w3.org/2000/svg\" height=\"24px\"viewBox=\"0 0 24 24\"\n",
              "       width=\"24px\">\n",
              "    <path d=\"M0 0h24v24H0V0z\" fill=\"none\"/>\n",
              "    <path d=\"M18.56 5.44l.94 2.06.94-2.06 2.06-.94-2.06-.94-.94-2.06-.94 2.06-2.06.94zm-11 1L8.5 8.5l.94-2.06 2.06-.94-2.06-.94L8.5 2.5l-.94 2.06-2.06.94zm10 10l.94 2.06.94-2.06 2.06-.94-2.06-.94-.94-2.06-.94 2.06-2.06.94z\"/><path d=\"M17.41 7.96l-1.37-1.37c-.4-.4-.92-.59-1.43-.59-.52 0-1.04.2-1.43.59L10.3 9.45l-7.72 7.72c-.78.78-.78 2.05 0 2.83L4 21.41c.39.39.9.59 1.41.59.51 0 1.02-.2 1.41-.59l7.78-7.78 2.81-2.81c.8-.78.8-2.07 0-2.86zM5.41 20L4 18.59l7.72-7.72 1.47 1.35L5.41 20z\"/>\n",
              "  </svg>\n",
              "      </button>\n",
              "      \n",
              "  <style>\n",
              "    .colab-df-container {\n",
              "      display:flex;\n",
              "      flex-wrap:wrap;\n",
              "      gap: 12px;\n",
              "    }\n",
              "\n",
              "    .colab-df-convert {\n",
              "      background-color: #E8F0FE;\n",
              "      border: none;\n",
              "      border-radius: 50%;\n",
              "      cursor: pointer;\n",
              "      display: none;\n",
              "      fill: #1967D2;\n",
              "      height: 32px;\n",
              "      padding: 0 0 0 0;\n",
              "      width: 32px;\n",
              "    }\n",
              "\n",
              "    .colab-df-convert:hover {\n",
              "      background-color: #E2EBFA;\n",
              "      box-shadow: 0px 1px 2px rgba(60, 64, 67, 0.3), 0px 1px 3px 1px rgba(60, 64, 67, 0.15);\n",
              "      fill: #174EA6;\n",
              "    }\n",
              "\n",
              "    [theme=dark] .colab-df-convert {\n",
              "      background-color: #3B4455;\n",
              "      fill: #D2E3FC;\n",
              "    }\n",
              "\n",
              "    [theme=dark] .colab-df-convert:hover {\n",
              "      background-color: #434B5C;\n",
              "      box-shadow: 0px 1px 3px 1px rgba(0, 0, 0, 0.15);\n",
              "      filter: drop-shadow(0px 1px 2px rgba(0, 0, 0, 0.3));\n",
              "      fill: #FFFFFF;\n",
              "    }\n",
              "  </style>\n",
              "\n",
              "      <script>\n",
              "        const buttonEl =\n",
              "          document.querySelector('#df-619f22c2-4997-48b0-8ab0-fc69007a217c button.colab-df-convert');\n",
              "        buttonEl.style.display =\n",
              "          google.colab.kernel.accessAllowed ? 'block' : 'none';\n",
              "\n",
              "        async function convertToInteractive(key) {\n",
              "          const element = document.querySelector('#df-619f22c2-4997-48b0-8ab0-fc69007a217c');\n",
              "          const dataTable =\n",
              "            await google.colab.kernel.invokeFunction('convertToInteractive',\n",
              "                                                     [key], {});\n",
              "          if (!dataTable) return;\n",
              "\n",
              "          const docLinkHtml = 'Like what you see? Visit the ' +\n",
              "            '<a target=\"_blank\" href=https://colab.research.google.com/notebooks/data_table.ipynb>data table notebook</a>'\n",
              "            + ' to learn more about interactive tables.';\n",
              "          element.innerHTML = '';\n",
              "          dataTable['output_type'] = 'display_data';\n",
              "          await google.colab.output.renderOutput(dataTable, element);\n",
              "          const docLink = document.createElement('div');\n",
              "          docLink.innerHTML = docLinkHtml;\n",
              "          element.appendChild(docLink);\n",
              "        }\n",
              "      </script>\n",
              "    </div>\n",
              "  </div>\n",
              "  "
            ]
          },
          "metadata": {},
          "execution_count": 55
        }
      ]
    },
    {
      "cell_type": "code",
      "source": [
        "#Dejo comentada una función con la que borré palabras mezcladas con números que aparentemente podrían ensuciar nuestro corpus, pero curiosamente empeora nuestro accuracy al entrenar, seguramente\n",
        "# al usar el inglés serán maneras de escribir en su argot. Decidimos de momento  omitir esta función.\n",
        "\n",
        "###############################################################\n",
        "\n",
        "#Al ver palabras mezcladas con números, que la función no ha sido capaz de convertirnos a palabras como(dd65, 5th, sm48 etc.), las eliminamos.\n",
        "\n",
        "#import re\n",
        "#patron = r'\\b\\w*\\d\\w*\\b' #expresión regular que busca palabras que contienen almenos un número y con la función re.sub reemplazaremos cualquier palabra-número por una cadena vacía.\n",
        "#df['review'] = df['review'].apply(lambda x: re.sub(patron, '', x))"
      ],
      "metadata": {
        "id": "2qkMptoqqLSY"
      },
      "execution_count": null,
      "outputs": []
    },
    {
      "cell_type": "markdown",
      "source": [
        "Más abajo, usando el wordcloud, Veo que 'good', 'great' y 'well', tienen fuerza en las reseñas negativas. Esto es por que como aquellas reseñas de menos de 5 estrellas las hemos clasificado en negativas seguramente muchas de 4 estrellas digan aspectos positivos, por ello decido borrar esas palabras de aquellas reviews negativas, así dejo el modelo más equilibrado y no se confunde al ver palabras positivas como negativas."
      ],
      "metadata": {
        "id": "BkdMz_sm3wei"
      }
    },
    {
      "cell_type": "code",
      "source": [
        "#Creamos una función para borrar palabras que caracterizan más un texto positivo que uno negativo y que sin embargo tienen mucho peso en las reseñas negativas.\n",
        "\n",
        "import re\n",
        "\n",
        "def delete_words_cloud (row):\n",
        "  delete_words = ['good','great', 'well']\n",
        "  column_condition = 'sentiment_label'\n",
        "  if row[column_condition] == 0:\n",
        "    text = row['review']\n",
        "\n",
        "    patron = re.compile(r'\\b('+'|'.join(delete_words)+r')\\b')\n",
        "    new_text= patron.sub('', text)\n",
        "\n",
        "    return new_text\n",
        "  else:\n",
        "    return row['review']\n",
        "\n",
        "df['review'] = df.apply(delete_words_cloud, axis = 1)"
      ],
      "metadata": {
        "id": "2NRSpyFNp9WV"
      },
      "execution_count": null,
      "outputs": []
    },
    {
      "cell_type": "code",
      "source": [
        "#Comenzamos a crear nuestro modelo, dividimos entre train y test.\n",
        "\n",
        "import gensim\n",
        "import multiprocessing as mp\n",
        "\n",
        "from tensorflow.keras.preprocessing.text import Tokenizer\n",
        "from tensorflow.keras.preprocessing.sequence import pad_sequences\n",
        "from tensorflow.keras.models import Sequential\n",
        "from tensorflow.keras.layers import (\n",
        "    Dense,\n",
        "    Dropout,\n",
        "    Embedding,\n",
        "    LSTM,\n",
        ")\n",
        "from tensorflow.keras.callbacks import ReduceLROnPlateau, EarlyStopping\n",
        "from sklearn.preprocessing import LabelEncoder"
      ],
      "metadata": {
        "id": "ihJd4uKGfbO3"
      },
      "execution_count": null,
      "outputs": []
    },
    {
      "cell_type": "code",
      "source": [
        "X_train, X_test, y_train, y_test = train_test_split(\n",
        "    df['review'],\n",
        "    df['sentiment_label'],\n",
        "    train_size=0.75, #Elegimos el 75% de los datos para train y el 25% para test\n",
        "    test_size=0.25,\n",
        "    random_state=42,\n",
        "    shuffle=True\n",
        ")"
      ],
      "metadata": {
        "id": "UDjjSdmZZp1S"
      },
      "execution_count": null,
      "outputs": []
    },
    {
      "cell_type": "code",
      "source": [
        "#Vemos la media de palabras por review y la review que más palabras tiene, lo usamos para eleigir el numero de palabras a usar en el modelo.\n",
        "#Usaremos 500 y observamos resultados.\n",
        "\n",
        "max = 0\n",
        "mean = []\n",
        "for example in X_train:\n",
        "  length = len(example)\n",
        "  mean.append(len(example))\n",
        "  if length > max:\n",
        "    max = length"
      ],
      "metadata": {
        "id": "XSu9ElOTSUkn"
      },
      "execution_count": null,
      "outputs": []
    },
    {
      "cell_type": "code",
      "source": [
        "print(sum(mean) / len(mean))\n",
        "print(max)"
      ],
      "metadata": {
        "colab": {
          "base_uri": "https://localhost:8080/"
        },
        "id": "N3NaxvrXSaxS",
        "outputId": "cbd59afa-fb98-4149-b612-65f9083ffa9d"
      },
      "execution_count": null,
      "outputs": [
        {
          "output_type": "stream",
          "name": "stdout",
          "text": [
            "152.86616047757317\n",
            "7239\n"
          ]
        }
      ]
    },
    {
      "cell_type": "markdown",
      "source": [
        "**Exploramos los datos y vemos que tenemos**"
      ],
      "metadata": {
        "id": "CVD2qsKfR1Zs"
      }
    },
    {
      "cell_type": "code",
      "source": [
        "X_train.iloc[:10]"
      ],
      "metadata": {
        "colab": {
          "base_uri": "https://localhost:8080/"
        },
        "id": "26410NKZZ_cO",
        "outputId": "ad5077d3-d483-4232-9899-5996673b4c80"
      },
      "execution_count": null,
      "outputs": [
        {
          "output_type": "execute_result",
          "data": {
            "text/plain": [
              "29082    very satisfied with this purchase good price g...\n",
              "41298    an excellent bag wish could kept edm returned ...\n",
              "23821                                         stick  money\n",
              "74081    cello bow even violin viola bow nothing like p...\n",
              "57343                             not picture quality poor\n",
              "69744    used venetian blind one side would stay works ...\n",
              "95427    decent bag quality fair single stitching alrea...\n",
              "60473                    cheap get pay ok small child play\n",
              "92420    awful awful awful completely fell apart minima...\n",
              "28095    better expected we adjust smaller bigger shape...\n",
              "Name: review, dtype: object"
            ]
          },
          "metadata": {},
          "execution_count": 66
        }
      ]
    },
    {
      "cell_type": "code",
      "source": [
        "X_train_words = pd.DataFrame(X_train, columns=[\"review\"])\n",
        "X_test_words = pd.DataFrame(X_test, columns=[\"review\"])"
      ],
      "metadata": {
        "id": "G5RCePXld3WU"
      },
      "execution_count": null,
      "outputs": []
    },
    {
      "cell_type": "code",
      "source": [
        "X_train_words.head()"
      ],
      "metadata": {
        "colab": {
          "base_uri": "https://localhost:8080/",
          "height": 206
        },
        "id": "MLrVV5k8eEBn",
        "outputId": "7895225e-2c08-4dae-9e00-769a36412a37"
      },
      "execution_count": null,
      "outputs": [
        {
          "output_type": "execute_result",
          "data": {
            "text/plain": [
              "                                                  review\n",
              "29082  very satisfied with this purchase good price g...\n",
              "41298  an excellent bag wish could kept edm returned ...\n",
              "23821                                       stick  money\n",
              "74081  cello bow even violin viola bow nothing like p...\n",
              "57343                           not picture quality poor"
            ],
            "text/html": [
              "\n",
              "  <div id=\"df-c1fb11d2-75e0-4664-9e96-8514009f08cb\">\n",
              "    <div class=\"colab-df-container\">\n",
              "      <div>\n",
              "<style scoped>\n",
              "    .dataframe tbody tr th:only-of-type {\n",
              "        vertical-align: middle;\n",
              "    }\n",
              "\n",
              "    .dataframe tbody tr th {\n",
              "        vertical-align: top;\n",
              "    }\n",
              "\n",
              "    .dataframe thead th {\n",
              "        text-align: right;\n",
              "    }\n",
              "</style>\n",
              "<table border=\"1\" class=\"dataframe\">\n",
              "  <thead>\n",
              "    <tr style=\"text-align: right;\">\n",
              "      <th></th>\n",
              "      <th>review</th>\n",
              "    </tr>\n",
              "  </thead>\n",
              "  <tbody>\n",
              "    <tr>\n",
              "      <th>29082</th>\n",
              "      <td>very satisfied with this purchase good price g...</td>\n",
              "    </tr>\n",
              "    <tr>\n",
              "      <th>41298</th>\n",
              "      <td>an excellent bag wish could kept edm returned ...</td>\n",
              "    </tr>\n",
              "    <tr>\n",
              "      <th>23821</th>\n",
              "      <td>stick  money</td>\n",
              "    </tr>\n",
              "    <tr>\n",
              "      <th>74081</th>\n",
              "      <td>cello bow even violin viola bow nothing like p...</td>\n",
              "    </tr>\n",
              "    <tr>\n",
              "      <th>57343</th>\n",
              "      <td>not picture quality poor</td>\n",
              "    </tr>\n",
              "  </tbody>\n",
              "</table>\n",
              "</div>\n",
              "      <button class=\"colab-df-convert\" onclick=\"convertToInteractive('df-c1fb11d2-75e0-4664-9e96-8514009f08cb')\"\n",
              "              title=\"Convert this dataframe to an interactive table.\"\n",
              "              style=\"display:none;\">\n",
              "        \n",
              "  <svg xmlns=\"http://www.w3.org/2000/svg\" height=\"24px\"viewBox=\"0 0 24 24\"\n",
              "       width=\"24px\">\n",
              "    <path d=\"M0 0h24v24H0V0z\" fill=\"none\"/>\n",
              "    <path d=\"M18.56 5.44l.94 2.06.94-2.06 2.06-.94-2.06-.94-.94-2.06-.94 2.06-2.06.94zm-11 1L8.5 8.5l.94-2.06 2.06-.94-2.06-.94L8.5 2.5l-.94 2.06-2.06.94zm10 10l.94 2.06.94-2.06 2.06-.94-2.06-.94-.94-2.06-.94 2.06-2.06.94z\"/><path d=\"M17.41 7.96l-1.37-1.37c-.4-.4-.92-.59-1.43-.59-.52 0-1.04.2-1.43.59L10.3 9.45l-7.72 7.72c-.78.78-.78 2.05 0 2.83L4 21.41c.39.39.9.59 1.41.59.51 0 1.02-.2 1.41-.59l7.78-7.78 2.81-2.81c.8-.78.8-2.07 0-2.86zM5.41 20L4 18.59l7.72-7.72 1.47 1.35L5.41 20z\"/>\n",
              "  </svg>\n",
              "      </button>\n",
              "      \n",
              "  <style>\n",
              "    .colab-df-container {\n",
              "      display:flex;\n",
              "      flex-wrap:wrap;\n",
              "      gap: 12px;\n",
              "    }\n",
              "\n",
              "    .colab-df-convert {\n",
              "      background-color: #E8F0FE;\n",
              "      border: none;\n",
              "      border-radius: 50%;\n",
              "      cursor: pointer;\n",
              "      display: none;\n",
              "      fill: #1967D2;\n",
              "      height: 32px;\n",
              "      padding: 0 0 0 0;\n",
              "      width: 32px;\n",
              "    }\n",
              "\n",
              "    .colab-df-convert:hover {\n",
              "      background-color: #E2EBFA;\n",
              "      box-shadow: 0px 1px 2px rgba(60, 64, 67, 0.3), 0px 1px 3px 1px rgba(60, 64, 67, 0.15);\n",
              "      fill: #174EA6;\n",
              "    }\n",
              "\n",
              "    [theme=dark] .colab-df-convert {\n",
              "      background-color: #3B4455;\n",
              "      fill: #D2E3FC;\n",
              "    }\n",
              "\n",
              "    [theme=dark] .colab-df-convert:hover {\n",
              "      background-color: #434B5C;\n",
              "      box-shadow: 0px 1px 3px 1px rgba(0, 0, 0, 0.15);\n",
              "      filter: drop-shadow(0px 1px 2px rgba(0, 0, 0, 0.3));\n",
              "      fill: #FFFFFF;\n",
              "    }\n",
              "  </style>\n",
              "\n",
              "      <script>\n",
              "        const buttonEl =\n",
              "          document.querySelector('#df-c1fb11d2-75e0-4664-9e96-8514009f08cb button.colab-df-convert');\n",
              "        buttonEl.style.display =\n",
              "          google.colab.kernel.accessAllowed ? 'block' : 'none';\n",
              "\n",
              "        async function convertToInteractive(key) {\n",
              "          const element = document.querySelector('#df-c1fb11d2-75e0-4664-9e96-8514009f08cb');\n",
              "          const dataTable =\n",
              "            await google.colab.kernel.invokeFunction('convertToInteractive',\n",
              "                                                     [key], {});\n",
              "          if (!dataTable) return;\n",
              "\n",
              "          const docLinkHtml = 'Like what you see? Visit the ' +\n",
              "            '<a target=\"_blank\" href=https://colab.research.google.com/notebooks/data_table.ipynb>data table notebook</a>'\n",
              "            + ' to learn more about interactive tables.';\n",
              "          element.innerHTML = '';\n",
              "          dataTable['output_type'] = 'display_data';\n",
              "          await google.colab.output.renderOutput(dataTable, element);\n",
              "          const docLink = document.createElement('div');\n",
              "          docLink.innerHTML = docLinkHtml;\n",
              "          element.appendChild(docLink);\n",
              "        }\n",
              "      </script>\n",
              "    </div>\n",
              "  </div>\n",
              "  "
            ]
          },
          "metadata": {},
          "execution_count": 68
        }
      ]
    },
    {
      "cell_type": "code",
      "source": [
        "#Preparamos los datos para el wordcloud y vemos que más podemos mejorar de nuestro dataset.\n",
        "\n",
        "result_positive= df.loc[df['sentiment_label'] == 1, 'review']\n",
        "result_negative = df.loc[df['sentiment_label'] == 0, 'review']\n",
        "text_positive = ''\n",
        "text_negative = ''\n",
        "\n",
        "for review in result_positive:\n",
        "  text_positive += review\n",
        "\n",
        "for review in result_negative:\n",
        "  text_negative += review\n"
      ],
      "metadata": {
        "id": "VyUnL2XaKp-0"
      },
      "execution_count": null,
      "outputs": []
    },
    {
      "cell_type": "code",
      "source": [
        "!pip install wordcloud"
      ],
      "metadata": {
        "colab": {
          "base_uri": "https://localhost:8080/"
        },
        "id": "SuUBYK_rNRTv",
        "outputId": "99c73a7e-f57e-400a-eef4-713c59efadd9"
      },
      "execution_count": null,
      "outputs": [
        {
          "output_type": "stream",
          "name": "stdout",
          "text": [
            "Looking in indexes: https://pypi.org/simple, https://us-python.pkg.dev/colab-wheels/public/simple/\n",
            "Requirement already satisfied: wordcloud in /usr/local/lib/python3.9/dist-packages (1.8.2.2)\n",
            "Requirement already satisfied: matplotlib in /usr/local/lib/python3.9/dist-packages (from wordcloud) (3.5.3)\n",
            "Requirement already satisfied: numpy>=1.6.1 in /usr/local/lib/python3.9/dist-packages (from wordcloud) (1.22.4)\n",
            "Requirement already satisfied: pillow in /usr/local/lib/python3.9/dist-packages (from wordcloud) (8.4.0)\n",
            "Requirement already satisfied: python-dateutil>=2.7 in /usr/local/lib/python3.9/dist-packages (from matplotlib->wordcloud) (2.8.2)\n",
            "Requirement already satisfied: packaging>=20.0 in /usr/local/lib/python3.9/dist-packages (from matplotlib->wordcloud) (23.0)\n",
            "Requirement already satisfied: cycler>=0.10 in /usr/local/lib/python3.9/dist-packages (from matplotlib->wordcloud) (0.11.0)\n",
            "Requirement already satisfied: fonttools>=4.22.0 in /usr/local/lib/python3.9/dist-packages (from matplotlib->wordcloud) (4.39.0)\n",
            "Requirement already satisfied: pyparsing>=2.2.1 in /usr/local/lib/python3.9/dist-packages (from matplotlib->wordcloud) (3.0.9)\n",
            "Requirement already satisfied: kiwisolver>=1.0.1 in /usr/local/lib/python3.9/dist-packages (from matplotlib->wordcloud) (1.4.4)\n",
            "Requirement already satisfied: six>=1.5 in /usr/local/lib/python3.9/dist-packages (from python-dateutil>=2.7->matplotlib->wordcloud) (1.15.0)\n"
          ]
        }
      ]
    },
    {
      "cell_type": "code",
      "source": [
        "import matplotlib.pyplot as plt\n",
        "%matplotlib inline\n",
        "\n",
        "from wordcloud import WordCloud, STOPWORDS\n",
        "\n",
        "# Inicializamos el wordcloud\n",
        "wc = WordCloud(background_color='white', max_words=50,\n",
        "        # Actualizamos las stopwords para incluir palabras comunes del tema\n",
        "        stopwords = STOPWORDS.update(['one','guitar','string']))\n",
        "\n",
        "plt.imshow(wc.generate(text_positive))\n",
        "plt.axis('off')\n",
        "plt.show()"
      ],
      "metadata": {
        "colab": {
          "base_uri": "https://localhost:8080/",
          "height": 198
        },
        "id": "rAUyFJKNL2Bq",
        "outputId": "b701da8b-d6fb-43d7-c8b1-2e98a37923cd"
      },
      "execution_count": null,
      "outputs": [
        {
          "output_type": "display_data",
          "data": {
            "text/plain": [
              "<Figure size 432x288 with 1 Axes>"
            ],
            "image/png": "[encoded data removed]"
          },
          "metadata": {
            "needs_background": "light"
          }
        }
      ]
    },
    {
      "cell_type": "code",
      "source": [
        "wc = WordCloud(background_color='white', max_words=50,\n",
        "        # Actualizamos las stopwords para incluir palabras comunes del tema\n",
        "        stopwords = STOPWORDS.update(['good','great', 'well']))\n",
        "\n",
        "plt.imshow(wc.generate(text_negative))\n",
        "plt.axis('off')\n",
        "plt.show()"
      ],
      "metadata": {
        "colab": {
          "base_uri": "https://localhost:8080/",
          "height": 198
        },
        "id": "pKxh5AzDPIG-",
        "outputId": "ab51fe40-99c7-48c4-eae1-1d480a3d34aa"
      },
      "execution_count": null,
      "outputs": [
        {
          "output_type": "display_data",
          "data": {
            "text/plain": [
              "<Figure size 432x288 with 1 Axes>"
            ],
            "image/png": "[encoded data removed]"
          },
          "metadata": {
            "needs_background": "light"
          }
        }
      ]
    },
    {
      "cell_type": "code",
      "source": [
        "df.shape"
      ],
      "metadata": {
        "colab": {
          "base_uri": "https://localhost:8080/"
        },
        "id": "-M2Cm5rdXwFa",
        "outputId": "bec01ffd-8e8a-430a-cc0e-8cdc7007016b"
      },
      "execution_count": null,
      "outputs": [
        {
          "output_type": "execute_result",
          "data": {
            "text/plain": [
              "(73930, 3)"
            ]
          },
          "metadata": {},
          "execution_count": 73
        }
      ]
    },
    {
      "cell_type": "code",
      "source": [
        "df.head()\n"
      ],
      "metadata": {
        "colab": {
          "base_uri": "https://localhost:8080/",
          "height": 206
        },
        "id": "3c9wkIENXUXi",
        "outputId": "bd53701b-9a56-474e-c7f9-d3cd7afa593f"
      },
      "execution_count": null,
      "outputs": [
        {
          "output_type": "execute_result",
          "data": {
            "text/plain": [
              "                                               review  sentiment  \\\n",
              "0    see post critical review one not getting corr...        1.0   \n",
              "1   strongly reccomend buy matter beginner guitar ...        5.0   \n",
              "4                                         love string        4.0   \n",
              "7   this true singing bowl resonate sing either hi...        1.0   \n",
              "10  case suck plain simple guitar sliding around c...        1.0   \n",
              "\n",
              "    sentiment_label  \n",
              "0                 0  \n",
              "1                 1  \n",
              "4                 0  \n",
              "7                 0  \n",
              "10                0  "
            ],
            "text/html": [
              "\n",
              "  <div id=\"df-333f94d3-5bae-4ae2-9b60-a2405a336ba2\">\n",
              "    <div class=\"colab-df-container\">\n",
              "      <div>\n",
              "<style scoped>\n",
              "    .dataframe tbody tr th:only-of-type {\n",
              "        vertical-align: middle;\n",
              "    }\n",
              "\n",
              "    .dataframe tbody tr th {\n",
              "        vertical-align: top;\n",
              "    }\n",
              "\n",
              "    .dataframe thead th {\n",
              "        text-align: right;\n",
              "    }\n",
              "</style>\n",
              "<table border=\"1\" class=\"dataframe\">\n",
              "  <thead>\n",
              "    <tr style=\"text-align: right;\">\n",
              "      <th></th>\n",
              "      <th>review</th>\n",
              "      <th>sentiment</th>\n",
              "      <th>sentiment_label</th>\n",
              "    </tr>\n",
              "  </thead>\n",
              "  <tbody>\n",
              "    <tr>\n",
              "      <th>0</th>\n",
              "      <td>see post critical review one not getting corr...</td>\n",
              "      <td>1.0</td>\n",
              "      <td>0</td>\n",
              "    </tr>\n",
              "    <tr>\n",
              "      <th>1</th>\n",
              "      <td>strongly reccomend buy matter beginner guitar ...</td>\n",
              "      <td>5.0</td>\n",
              "      <td>1</td>\n",
              "    </tr>\n",
              "    <tr>\n",
              "      <th>4</th>\n",
              "      <td>love string</td>\n",
              "      <td>4.0</td>\n",
              "      <td>0</td>\n",
              "    </tr>\n",
              "    <tr>\n",
              "      <th>7</th>\n",
              "      <td>this true singing bowl resonate sing either hi...</td>\n",
              "      <td>1.0</td>\n",
              "      <td>0</td>\n",
              "    </tr>\n",
              "    <tr>\n",
              "      <th>10</th>\n",
              "      <td>case suck plain simple guitar sliding around c...</td>\n",
              "      <td>1.0</td>\n",
              "      <td>0</td>\n",
              "    </tr>\n",
              "  </tbody>\n",
              "</table>\n",
              "</div>\n",
              "      <button class=\"colab-df-convert\" onclick=\"convertToInteractive('df-333f94d3-5bae-4ae2-9b60-a2405a336ba2')\"\n",
              "              title=\"Convert this dataframe to an interactive table.\"\n",
              "              style=\"display:none;\">\n",
              "        \n",
              "  <svg xmlns=\"http://www.w3.org/2000/svg\" height=\"24px\"viewBox=\"0 0 24 24\"\n",
              "       width=\"24px\">\n",
              "    <path d=\"M0 0h24v24H0V0z\" fill=\"none\"/>\n",
              "    <path d=\"M18.56 5.44l.94 2.06.94-2.06 2.06-.94-2.06-.94-.94-2.06-.94 2.06-2.06.94zm-11 1L8.5 8.5l.94-2.06 2.06-.94-2.06-.94L8.5 2.5l-.94 2.06-2.06.94zm10 10l.94 2.06.94-2.06 2.06-.94-2.06-.94-.94-2.06-.94 2.06-2.06.94z\"/><path d=\"M17.41 7.96l-1.37-1.37c-.4-.4-.92-.59-1.43-.59-.52 0-1.04.2-1.43.59L10.3 9.45l-7.72 7.72c-.78.78-.78 2.05 0 2.83L4 21.41c.39.39.9.59 1.41.59.51 0 1.02-.2 1.41-.59l7.78-7.78 2.81-2.81c.8-.78.8-2.07 0-2.86zM5.41 20L4 18.59l7.72-7.72 1.47 1.35L5.41 20z\"/>\n",
              "  </svg>\n",
              "      </button>\n",
              "      \n",
              "  <style>\n",
              "    .colab-df-container {\n",
              "      display:flex;\n",
              "      flex-wrap:wrap;\n",
              "      gap: 12px;\n",
              "    }\n",
              "\n",
              "    .colab-df-convert {\n",
              "      background-color: #E8F0FE;\n",
              "      border: none;\n",
              "      border-radius: 50%;\n",
              "      cursor: pointer;\n",
              "      display: none;\n",
              "      fill: #1967D2;\n",
              "      height: 32px;\n",
              "      padding: 0 0 0 0;\n",
              "      width: 32px;\n",
              "    }\n",
              "\n",
              "    .colab-df-convert:hover {\n",
              "      background-color: #E2EBFA;\n",
              "      box-shadow: 0px 1px 2px rgba(60, 64, 67, 0.3), 0px 1px 3px 1px rgba(60, 64, 67, 0.15);\n",
              "      fill: #174EA6;\n",
              "    }\n",
              "\n",
              "    [theme=dark] .colab-df-convert {\n",
              "      background-color: #3B4455;\n",
              "      fill: #D2E3FC;\n",
              "    }\n",
              "\n",
              "    [theme=dark] .colab-df-convert:hover {\n",
              "      background-color: #434B5C;\n",
              "      box-shadow: 0px 1px 3px 1px rgba(0, 0, 0, 0.15);\n",
              "      filter: drop-shadow(0px 1px 2px rgba(0, 0, 0, 0.3));\n",
              "      fill: #FFFFFF;\n",
              "    }\n",
              "  </style>\n",
              "\n",
              "      <script>\n",
              "        const buttonEl =\n",
              "          document.querySelector('#df-333f94d3-5bae-4ae2-9b60-a2405a336ba2 button.colab-df-convert');\n",
              "        buttonEl.style.display =\n",
              "          google.colab.kernel.accessAllowed ? 'block' : 'none';\n",
              "\n",
              "        async function convertToInteractive(key) {\n",
              "          const element = document.querySelector('#df-333f94d3-5bae-4ae2-9b60-a2405a336ba2');\n",
              "          const dataTable =\n",
              "            await google.colab.kernel.invokeFunction('convertToInteractive',\n",
              "                                                     [key], {});\n",
              "          if (!dataTable) return;\n",
              "\n",
              "          const docLinkHtml = 'Like what you see? Visit the ' +\n",
              "            '<a target=\"_blank\" href=https://colab.research.google.com/notebooks/data_table.ipynb>data table notebook</a>'\n",
              "            + ' to learn more about interactive tables.';\n",
              "          element.innerHTML = '';\n",
              "          dataTable['output_type'] = 'display_data';\n",
              "          await google.colab.output.renderOutput(dataTable, element);\n",
              "          const docLink = document.createElement('div');\n",
              "          docLink.innerHTML = docLinkHtml;\n",
              "          element.appendChild(docLink);\n",
              "        }\n",
              "      </script>\n",
              "    </div>\n",
              "  </div>\n",
              "  "
            ]
          },
          "metadata": {},
          "execution_count": 74
        }
      ]
    },
    {
      "cell_type": "markdown",
      "source": [
        "En las negativas, vemos que están fuertemente marcadas las palabras 'great'. 'good', y 'use'. Las eliminamos aver que pasa, y vemos que aún podemos filtar más palabras para mejorar sus predicciones."
      ],
      "metadata": {
        "id": "rnnW-WOTPfS2"
      }
    },
    {
      "cell_type": "markdown",
      "source": [
        "**PASO 3: ETAPA DE ENTRENAMIENTO Y TESTEO DE UN MODELO DE ANÁLISIS DE SENTIMIENTO**"
      ],
      "metadata": {
        "id": "3T9YaXJgahGP"
      }
    },
    {
      "cell_type": "code",
      "source": [
        "import nltk\n",
        "nltk.download(\"punkt\")"
      ],
      "metadata": {
        "colab": {
          "base_uri": "https://localhost:8080/"
        },
        "id": "BRvk-gw0eZ9Q",
        "outputId": "fee8e23c-61eb-4067-ce91-db19703888fe"
      },
      "execution_count": null,
      "outputs": [
        {
          "output_type": "stream",
          "name": "stderr",
          "text": [
            "[nltk_data] Downloading package punkt to /root/nltk_data...\n",
            "[nltk_data]   Unzipping tokenizers/punkt.zip.\n"
          ]
        },
        {
          "output_type": "execute_result",
          "data": {
            "text/plain": [
              "True"
            ]
          },
          "metadata": {},
          "execution_count": 75
        }
      ]
    },
    {
      "cell_type": "code",
      "source": [
        "#Funcion para generar el tokenizador\n",
        "\n",
        "def generate_tokenizer(train_df):\n",
        "    tokenizer = Tokenizer() #Instanciamos el tokenizador y entrenamos\n",
        "    tokenizer.fit_on_texts(train_df)\n",
        "    vocab_size = len(tokenizer.word_index) + 1\n",
        "    print(f\"Total words: {vocab_size}\")\n",
        "    return tokenizer, vocab_size"
      ],
      "metadata": {
        "id": "QZWMzyZwfRzl"
      },
      "execution_count": null,
      "outputs": []
    },
    {
      "cell_type": "code",
      "source": [
        "# Parámetros del WORD2VEC\n",
        "W2V_SIZE = 300 # dimensión de los vectores, es decir, cada palabra será representada por un vector de 300 dimensiones, o mejor dicho por una lista de 300 números reales.\n",
        "W2V_WINDOW = 7 # número de palabras que va a mirar alrededor\n",
        "# 32\n",
        "W2V_EPOCH = 5 # número de epocas que entrenamos el modelo w2v\n",
        "W2V_MIN_COUNT = 2 #número mínimo de frecuencia con que aparece cada palabra, las palabras por debajo de esta frecuencia se ignoran.\n",
        "\n",
        "# KERAS\n",
        "SEQUENCE_LENGTH = 500 # número de secuencias de keras"
      ],
      "metadata": {
        "id": "59YUKE6TgaNd"
      },
      "execution_count": null,
      "outputs": []
    },
    {
      "cell_type": "code",
      "source": [
        "#Función para pasar de palabras a vectores, preparando los datos para el modelo.\n",
        "#No indicamos el algoritmo que usamos pero por defecto, usa el CBOW, que a partir de un contexto de palabras tratará de predecir la palabra objetivo.\n",
        "#Es cierto que es un algoritmo que puede funcionar mejor en corpus grandes y lo ideal seria probar con los dos y valorar resultados pero viendo los buenos resultados obtenidos\n",
        "# y la falta de GPU lo dejamos así.\n",
        "\n",
        "def generate_word2vec(train_df):\n",
        "    documents = [_text.split() for _text in train_df.review]\n",
        "    w2v_model = gensim.models.word2vec.Word2Vec(\n",
        "        size=W2V_SIZE,\n",
        "        window=W2V_WINDOW,\n",
        "        min_count=W2V_MIN_COUNT,\n",
        "        workers=mp.cpu_count(), #aqui elegimos el número de nucleos que se utilizarán para entrenar el modelo.\n",
        "    )\n",
        "    w2v_model.build_vocab(documents) #contruimos el vocabulario, asignando un ID único a cada palabra única y construye una tabla de frecuencia de palabras utilizada en el entrenamiento.\n",
        "\n",
        "    words = w2v_model.wv.vocab.keys()\n",
        "    vocab_size = len(words)\n",
        "    print(f\"Vocab size: {vocab_size}\")\n",
        "    w2v_model.train(documents, total_examples=len(documents), epochs=W2V_EPOCH)\n",
        "\n",
        "    return w2v_model"
      ],
      "metadata": {
        "id": "bB8xPjuLf8ap"
      },
      "execution_count": null,
      "outputs": []
    },
    {
      "cell_type": "code",
      "source": [
        "#Función para generar el embedding, creando una matrix de ceros que luego iremos rellenando con los vectores creados por\n",
        "#word to vec.\n",
        "\n",
        "def generate_embedding(word2vec_model, vocab_size, tokenizer):\n",
        "    embedding_matrix = np.zeros((vocab_size, W2V_SIZE)) #matrix de ceros con las dimensiones del vocabulario y del w2v\n",
        "    for word, i in tokenizer.word_index.items():\n",
        "        if word in word2vec_model.wv:\n",
        "            embedding_matrix[i] = word2vec_model.wv[word] #sustituimos los valores de la matrix por las palabras vectorizadas.\n",
        "    return Embedding(\n",
        "        vocab_size,\n",
        "        W2V_SIZE,\n",
        "        weights=[embedding_matrix],\n",
        "        input_length=SEQUENCE_LENGTH,\n",
        "        trainable=False,\n",
        "    )\n",
        "\n"
      ],
      "metadata": {
        "id": "sY-IRmH1f_O6"
      },
      "execution_count": null,
      "outputs": []
    },
    {
      "cell_type": "markdown",
      "source": [
        "**APLICAMOS LAS FUNCIONES CREADAS**"
      ],
      "metadata": {
        "id": "0AQ0D6BZS04L"
      }
    },
    {
      "cell_type": "code",
      "source": [
        "\n",
        "\n",
        "tokenizer, vocab = generate_tokenizer(X_train_words.review)\n",
        "tokenizer_test, vocab_test = generate_tokenizer(X_test_words.review)\n",
        "\n"
      ],
      "metadata": {
        "colab": {
          "base_uri": "https://localhost:8080/"
        },
        "id": "QQOSL1GbePgX",
        "outputId": "27ce0f02-cffc-4fd2-cb64-97678e2f5126"
      },
      "execution_count": null,
      "outputs": [
        {
          "output_type": "stream",
          "name": "stdout",
          "text": [
            "Total words: 32258\n",
            "Total words: 18557\n"
          ]
        }
      ]
    },
    {
      "cell_type": "code",
      "source": [
        "word2vec_model = generate_word2vec(X_train_words)\n",
        "word2vec_model_test = generate_word2vec(X_test_words)\n"
      ],
      "metadata": {
        "colab": {
          "base_uri": "https://localhost:8080/"
        },
        "id": "wqhD3Xc8gA8b",
        "outputId": "42bb3781-a25a-4a77-b61b-118cc0d4dff2"
      },
      "execution_count": null,
      "outputs": [
        {
          "output_type": "stream",
          "name": "stdout",
          "text": [
            "Vocab size: 17340\n",
            "Vocab size: 10187\n"
          ]
        }
      ]
    },
    {
      "cell_type": "code",
      "source": [
        "from tensorflow.keras.utils import pad_sequences\n",
        "\n",
        "\n",
        "max_words = 500\n",
        "\n",
        "X_train_words = pad_sequences(tokenizer.texts_to_sequences(X_train_words.review), maxlen=max_words)\n",
        "X_test_words = pad_sequences(tokenizer.texts_to_sequences(X_test_words.review), maxlen=max_words)"
      ],
      "metadata": {
        "id": "rg6LJ68mgqAE"
      },
      "execution_count": null,
      "outputs": []
    },
    {
      "cell_type": "markdown",
      "source": [
        "**CREAMOS LA CAPA DE EMBEDDING Y EL MODELO**"
      ],
      "metadata": {
        "id": "wR34_9FjS9mR"
      }
    },
    {
      "cell_type": "markdown",
      "source": [
        "**Entrenamos nuestro modelo con una RNN + word2vec Embedding**"
      ],
      "metadata": {
        "id": "03pnQrvpUasq"
      }
    },
    {
      "cell_type": "code",
      "source": [
        "import numpy as np\n",
        "embedding_layer = generate_embedding(word2vec_model, vocab, tokenizer)"
      ],
      "metadata": {
        "id": "tYh7ou6rg8BX"
      },
      "execution_count": null,
      "outputs": []
    },
    {
      "cell_type": "code",
      "source": [
        "model_custom = Sequential()\n",
        "#pasamos directamente la capa que hemos generado\n",
        "model_custom.add(embedding_layer)\n",
        "model_custom.add(LSTM(100, dropout=0.2, recurrent_dropout=0.2))\n",
        "model_custom.add(Dense(1, activation=\"sigmoid\"))"
      ],
      "metadata": {
        "colab": {
          "base_uri": "https://localhost:8080/"
        },
        "id": "C6GJ4wtQg-l4",
        "outputId": "6b73c520-4257-41cf-9c8e-d66b2808d6d2"
      },
      "execution_count": null,
      "outputs": [
        {
          "output_type": "stream",
          "name": "stderr",
          "text": [
            "WARNING:tensorflow:Layer lstm will not use cuDNN kernels since it doesn't meet the criteria. It will use a generic GPU kernel as fallback when running on GPU.\n"
          ]
        }
      ]
    },
    {
      "cell_type": "code",
      "source": [
        "#Observamos las características de nuestro modelo formado por nuestro embedding y una  capa lstm.\n",
        "model_custom.summary()"
      ],
      "metadata": {
        "colab": {
          "base_uri": "https://localhost:8080/"
        },
        "id": "xNgtHHc2hFPe",
        "outputId": "cebe42df-48f7-4df2-97a3-f6f2ab320f9b"
      },
      "execution_count": null,
      "outputs": [
        {
          "output_type": "stream",
          "name": "stdout",
          "text": [
            "Model: \"sequential\"\n",
            "_________________________________________________________________\n",
            " Layer (type)                Output Shape              Param #   \n",
            "=================================================================\n",
            " embedding (Embedding)       (None, 500, 300)          9677400   \n",
            "                                                                 \n",
            " lstm (LSTM)                 (None, 100)               160400    \n",
            "                                                                 \n",
            " dense (Dense)               (None, 1)                 101       \n",
            "                                                                 \n",
            "=================================================================\n",
            "Total params: 9,837,901\n",
            "Trainable params: 160,501\n",
            "Non-trainable params: 9,677,400\n",
            "_________________________________________________________________\n"
          ]
        }
      ]
    },
    {
      "cell_type": "code",
      "source": [
        "model_custom.compile(loss=\"binary_crossentropy\", optimizer=\"adam\", metrics=[\"accuracy\"])"
      ],
      "metadata": {
        "id": "sKbJTq8dhObx"
      },
      "execution_count": null,
      "outputs": []
    },
    {
      "cell_type": "code",
      "source": [
        "#Entrenamos el modelo con una sola época debido al tiempo requerido de entrenamiento y analizamos resultados.\n",
        "\n",
        "batch_size = 64\n",
        "num_epochs = 1\n",
        "\n",
        "X_train_words_valid, y_valid = X_train_words[:batch_size], y_train[:batch_size]  # first batch_size samples\n",
        "X_train_words2, y_train2 = X_train_words[batch_size:], y_train[batch_size:]  # rest for training\n",
        "\n",
        "model_custom.fit(X_train_words2, y_train2,\n",
        "          validation_data=(X_train_words_valid, y_valid),\n",
        "          batch_size=batch_size, epochs=num_epochs)"
      ],
      "metadata": {
        "colab": {
          "base_uri": "https://localhost:8080/"
        },
        "id": "9bDepaZRhQHw",
        "outputId": "72e09960-8bef-421a-d587-78cca0e31fed"
      },
      "execution_count": null,
      "outputs": [
        {
          "output_type": "stream",
          "name": "stdout",
          "text": [
            "866/866 [==============================] - 1250s 1s/step - loss: 0.3643 - accuracy: 0.8352 - val_loss: 0.3663 - val_accuracy: 0.8281\n"
          ]
        },
        {
          "output_type": "execute_result",
          "data": {
            "text/plain": [
              "<keras.callbacks.History at 0x7fec1ab70850>"
            ]
          },
          "metadata": {},
          "execution_count": 88
        }
      ]
    },
    {
      "cell_type": "code",
      "source": [
        "scores = model_custom.evaluate(X_test_words, y_test, verbose=0)  # returns loss and other metrics specified in model.compile()\n",
        "print(\"Test accuracy:\", scores[1])"
      ],
      "metadata": {
        "colab": {
          "base_uri": "https://localhost:8080/"
        },
        "id": "ylgHFjLZqDnH",
        "outputId": "85425a85-6f13-414d-e96f-91fbfaab9ad4"
      },
      "execution_count": null,
      "outputs": [
        {
          "output_type": "stream",
          "name": "stdout",
          "text": [
            "Test accuracy: 0.8434236645698547\n"
          ]
        }
      ]
    },
    {
      "cell_type": "markdown",
      "source": [
        "**Conclusiones**:\n",
        "\n",
        "Observamos que el modelo nos da unos resultados muy buenos para haber sido entrenado con tan solo una época. El haber eliminado algunas stopwords que tenían un fuerte peso en los datos 'negativos' nos ha mejorado bastante el modelo.\n",
        "En general vemos que la limpieza y preprocesado ha sido crucial para obtener un buen accuracy, aunque tambien el modelo con redes neuronales nos ha ayudado a encontrar óptimos patrones predictivos.\n",
        "Nos quedamos contentos con el resultado, un accuracy de 0,84 en test y con una sola época."
      ],
      "metadata": {
        "id": "GemSAfqWVsXy"
      }
    },
    {
      "cell_type": "markdown",
      "source": [
        "**PROBAMOS CON GRU Y COMPARAMOS RESULTADOS**"
      ],
      "metadata": {
        "id": "HPzxB2lnT3D-"
      }
    },
    {
      "cell_type": "code",
      "source": [
        "from keras.layers import Embedding, LSTM, Dense, Dropout, GRUV2, SimpleRNN\n",
        "embedding_size = 32\n",
        "model_gru = Sequential()\n",
        "model_gru.add(Embedding(vocab, embedding_size, input_length=max_words)) #En este caso usamos la capa de embedding de Keras.\n",
        "model_gru.add(GRUV2(100))\n",
        "model_gru.add(Dense(1, activation='sigmoid'))\n",
        "\n",
        "print(model_gru.summary())"
      ],
      "metadata": {
        "colab": {
          "base_uri": "https://localhost:8080/"
        },
        "id": "JfdhHolVT2WY",
        "outputId": "4b585337-8ece-4969-91cd-93bdfb77f964"
      },
      "execution_count": null,
      "outputs": [
        {
          "output_type": "stream",
          "name": "stdout",
          "text": [
            "Model: \"sequential_1\"\n",
            "_________________________________________________________________\n",
            " Layer (type)                Output Shape              Param #   \n",
            "=================================================================\n",
            " embedding_1 (Embedding)     (None, 500, 32)           1032256   \n",
            "                                                                 \n",
            " gru (GRU)                   (None, 100)               40200     \n",
            "                                                                 \n",
            " dense_1 (Dense)             (None, 1)                 101       \n",
            "                                                                 \n",
            "=================================================================\n",
            "Total params: 1,072,557\n",
            "Trainable params: 1,072,557\n",
            "Non-trainable params: 0\n",
            "_________________________________________________________________\n",
            "None\n"
          ]
        }
      ]
    },
    {
      "cell_type": "code",
      "source": [
        "model_gru.compile(loss='binary_crossentropy', optimizer='adam', metrics=['accuracy'])"
      ],
      "metadata": {
        "id": "V1YYOeCKUCng"
      },
      "execution_count": null,
      "outputs": []
    },
    {
      "cell_type": "code",
      "source": [
        "batch_size = 64\n",
        "num_epochs = 1\n",
        "\n",
        "X_train_words_valid, y_valid = X_train_words[:batch_size], y_train[:batch_size]  # first batch_size samples\n",
        "X_train_words2, y_train2 = X_train_words[batch_size:], y_train[batch_size:]  # rest for training\n",
        "\n",
        "model_gru.fit(X_train_words2, y_train2,\n",
        "          validation_data=(X_train_words_valid, y_valid),\n",
        "          batch_size=batch_size, epochs=num_epochs)"
      ],
      "metadata": {
        "colab": {
          "base_uri": "https://localhost:8080/"
        },
        "id": "z3C27e0wUIPp",
        "outputId": "492efd8c-8e07-4b1b-acd9-8d74bbf96990"
      },
      "execution_count": null,
      "outputs": [
        {
          "output_type": "stream",
          "name": "stdout",
          "text": [
            "866/866 [==============================] - 77s 86ms/step - loss: 0.3763 - accuracy: 0.8229 - val_loss: 0.3137 - val_accuracy: 0.9062\n"
          ]
        },
        {
          "output_type": "execute_result",
          "data": {
            "text/plain": [
              "<keras.callbacks.History at 0x7fe8f6a37c10>"
            ]
          },
          "metadata": {},
          "execution_count": 92
        }
      ]
    },
    {
      "cell_type": "code",
      "source": [
        "scores = model_gru.evaluate(X_test_words, y_test, verbose=0)  # returns loss and other metrics specified in model.compile()\n",
        "print(\"Test accuracy:\", scores[1])"
      ],
      "metadata": {
        "colab": {
          "base_uri": "https://localhost:8080/"
        },
        "id": "LQAL4dJtUK7Z",
        "outputId": "2925a746-b3f7-4af5-d0bd-5cb1bc32ab48"
      },
      "execution_count": null,
      "outputs": [
        {
          "output_type": "stream",
          "name": "stdout",
          "text": [
            "Test accuracy: 0.865714430809021\n"
          ]
        }
      ]
    },
    {
      "cell_type": "markdown",
      "source": [],
      "metadata": {
        "id": "GD2_9aM2bH1H"
      }
    },
    {
      "cell_type": "markdown",
      "source": [
        "**PASO 4: CONCLUSIONES FINALES**\n",
        "\n",
        "   Vemos que con Gru mejoramos el modelo en test obteniendo un accuracy de 0,86 respecto al 0,84 con LSTM y al usar menos parámetros y menos complejidad computacional, entrena mucho más rápido.\n",
        "   Al igual que con el anterior modelo, los resultados son más que decentes al entrenar solo una época y la cantidad de datos que hemos usado-\n",
        "  En definitiva, podemos comprobar el avance exponencial que esta habiendo en el procesamiento del lenguaje natural y la inmensa  cantidad de recursos y herramientas que podemos usar para obtener resultados óptimos usando las redes neuronales.\n",
        "Técnicamente he observado también,  una mejora brutal al hacer mucho hincapié en el preprocesado. En un primer momento obtuve un accuracy de 0,76 y tras revisar de nuevo los datos y darles una segunda limpieza, lo he mejorado un 10% Obteniendo un accuracy de 0,85."
      ],
      "metadata": {
        "id": "zykZtvKcYQU3"
      }
    }
  ]
}